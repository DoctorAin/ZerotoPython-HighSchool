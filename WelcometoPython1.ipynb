{
 "cells": [
  {
   "cell_type": "markdown",
   "metadata": {},
   "source": [
    "Welcome to intro to python notebook"
   ]
  },
  {
   "cell_type": "code",
   "execution_count": null,
   "metadata": {},
   "outputs": [],
   "source": [
    "#this is a comment\n",
    "#comments aren't read by the computer so we can write whatever we want\n",
    "#you start a comment with the pound sign/hashtag in python\n",
    "#different languages have different comment symbols\n",
    "\n"
   ]
  },
  {
   "cell_type": "markdown",
   "metadata": {},
   "source": [
    "How to use python on your computer "
   ]
  },
  {
   "cell_type": "code",
   "execution_count": null,
   "metadata": {},
   "outputs": [],
   "source": [
    "#there a few ways to use python on your computer\n",
    "\n",
    "#you can do it in the terminal if you type python3\n",
    "#jupyter notebooks\n",
    "# a text editor\n",
    "\n",
    "#i think jupyter is better for troubleshooting/learning\n",
    "\n"
   ]
  },
  {
   "cell_type": "code",
   "execution_count": 1,
   "metadata": {},
   "outputs": [],
   "source": [
    "#in jupyter notebooks, each line is a cell\n",
    "#this is a cell\n",
    "#you can run each cell individually\n",
    "#to run a cell you hit shift enter "
   ]
  },
  {
   "cell_type": "code",
   "execution_count": 4,
   "metadata": {},
   "outputs": [],
   "source": [
    "#computers are better at math than you\n",
    "#especially repetitive arthimetic "
   ]
  },
  {
   "cell_type": "code",
   "execution_count": 5,
   "metadata": {},
   "outputs": [
    {
     "data": {
      "text/plain": [
       "7"
      ]
     },
     "execution_count": 5,
     "metadata": {},
     "output_type": "execute_result"
    }
   ],
   "source": [
    "7 #this is literally just the number 7\n",
    "#if you run this cell in jupyter notebooks by pressing shift enter, you will see a 7"
   ]
  },
  {
   "cell_type": "code",
   "execution_count": 6,
   "metadata": {},
   "outputs": [
    {
     "data": {
      "text/plain": [
       "9"
      ]
     },
     "execution_count": 6,
     "metadata": {},
     "output_type": "execute_result"
    }
   ],
   "source": [
    "7+2 #the colors show you whats going on, the plus sign is a different color than the numbers"
   ]
  },
  {
   "cell_type": "markdown",
   "metadata": {},
   "source": [
    "Variable assignment"
   ]
  },
  {
   "cell_type": "code",
   "execution_count": 8,
   "metadata": {},
   "outputs": [],
   "source": [
    "x=7+2 #python will do math \n",
    "#but not save it unless you assign it to a variable\n"
   ]
  },
  {
   "cell_type": "code",
   "execution_count": 9,
   "metadata": {},
   "outputs": [
    {
     "data": {
      "text/plain": [
       "9"
      ]
     },
     "execution_count": 9,
     "metadata": {},
     "output_type": "execute_result"
    }
   ],
   "source": [
    "# = this an assignment operator\n",
    "#the single equal sign tells the computer to save the information on the right of the sign \n",
    "#as the variable name on the left of the sign\n",
    "x #7+2 aka 9 is saved as variable x "
   ]
  },
  {
   "cell_type": "code",
   "execution_count": 10,
   "metadata": {},
   "outputs": [
    {
     "data": {
      "text/plain": [
       "9"
      ]
     },
     "execution_count": 10,
     "metadata": {},
     "output_type": "execute_result"
    }
   ],
   "source": [
    "# mathematical operators\n",
    "# + addition\n",
    "# - subtract\n",
    "# * multiply \n",
    "# ** exponentiate \n",
    "# / divide 7/2 --> 3.5\n",
    "# // floor division 7//2= 3\n",
    "# % modulus 7%2 = 1"
   ]
  },
  {
   "cell_type": "code",
   "execution_count": 13,
   "metadata": {},
   "outputs": [],
   "source": [
    "x=7//2"
   ]
  },
  {
   "cell_type": "code",
   "execution_count": 14,
   "metadata": {},
   "outputs": [
    {
     "data": {
      "text/plain": [
       "3"
      ]
     },
     "execution_count": 14,
     "metadata": {},
     "output_type": "execute_result"
    }
   ],
   "source": [
    "x"
   ]
  },
  {
   "cell_type": "code",
   "execution_count": null,
   "metadata": {},
   "outputs": [],
   "source": [
    "# variable names should be informative \n",
    "# helps you avoid overwriting"
   ]
  },
  {
   "cell_type": "code",
   "execution_count": 18,
   "metadata": {},
   "outputs": [],
   "source": [
    "#let's calculate the area of something\n",
    "\n",
    "base=3 #the equals sign is an assignment operator\n",
    "height=5 #you are telling the computer that height now equals number of your choice \n",
    "\n",
    "area= base*height\n",
    "\n",
    "#make your variable names informative, words are good"
   ]
  },
  {
   "cell_type": "code",
   "execution_count": 20,
   "metadata": {},
   "outputs": [
    {
     "data": {
      "text/plain": [
       "7"
      ]
     },
     "execution_count": 20,
     "metadata": {},
     "output_type": "execute_result"
    }
   ],
   "source": [
    "area #jupyter notebooks evaluates the last thing you typed in the cell\n",
    "7"
   ]
  },
  {
   "cell_type": "code",
   "execution_count": 17,
   "metadata": {},
   "outputs": [
    {
     "data": {
      "text/plain": [
       "3"
      ]
     },
     "execution_count": 17,
     "metadata": {},
     "output_type": "execute_result"
    }
   ],
   "source": [
    "base"
   ]
  },
  {
   "cell_type": "markdown",
   "metadata": {},
   "source": [
    "Functions \n",
    "\n",
    "Functions take an input and give you an output\n",
    "They are little programs someone wrote for you and saved under a name you can type in"
   ]
  },
  {
   "cell_type": "code",
   "execution_count": null,
   "metadata": {},
   "outputs": [],
   "source": [
    "# if you wanna see stuff, use the function print"
   ]
  },
  {
   "cell_type": "code",
   "execution_count": 21,
   "metadata": {},
   "outputs": [
    {
     "name": "stdout",
     "output_type": "stream",
     "text": [
      "15\n"
     ]
    }
   ],
   "source": [
    "print(area) # this is a function, takes an input and gives you an output\n",
    "#this particular function prints whatever is stored in the variable name\n",
    "#that you input into the function "
   ]
  },
  {
   "cell_type": "code",
   "execution_count": null,
   "metadata": {},
   "outputs": [],
   "source": [
    "base= 3\n",
    "height = 5\n",
    "area =base*height\n",
    "print(area)"
   ]
  },
  {
   "cell_type": "code",
   "execution_count": null,
   "metadata": {},
   "outputs": [],
   "source": [
    "#syntax is the rules for writing\n",
    "#python cares a lot about syntax\n",
    "#spacing and semicolons and stuff"
   ]
  },
  {
   "cell_type": "code",
   "execution_count": 30,
   "metadata": {},
   "outputs": [
    {
     "name": "stdout",
     "output_type": "stream",
     "text": [
      "1.3\n",
      "<class 'float'>\n"
     ]
    }
   ],
   "source": [
    "quarters= 4 #quarters are 25 cents\n",
    "dimes= 3 #dimes are 10 cents\n",
    "\n",
    "dollars= (quarters*.25) + (dimes *.10)\n",
    "\n",
    "print(dollars)\n",
    "print(type(dollars))\n"
   ]
  },
  {
   "cell_type": "code",
   "execution_count": null,
   "metadata": {},
   "outputs": [],
   "source": [
    "# another function is type\n",
    "#it tells you what type of data is stored in the variable you input\n",
    "#integers, floats, strings, etc"
   ]
  },
  {
   "cell_type": "code",
   "execution_count": 24,
   "metadata": {},
   "outputs": [
    {
     "data": {
      "text/plain": [
       "1.3"
      ]
     },
     "execution_count": 24,
     "metadata": {},
     "output_type": "execute_result"
    }
   ],
   "source": [
    "dollars"
   ]
  },
  {
   "cell_type": "code",
   "execution_count": 25,
   "metadata": {},
   "outputs": [
    {
     "data": {
      "text/plain": [
       "float"
      ]
     },
     "execution_count": 25,
     "metadata": {},
     "output_type": "execute_result"
    }
   ],
   "source": [
    "type(dollars)"
   ]
  },
  {
   "cell_type": "code",
   "execution_count": 26,
   "metadata": {},
   "outputs": [
    {
     "data": {
      "text/plain": [
       "int"
      ]
     },
     "execution_count": 26,
     "metadata": {},
     "output_type": "execute_result"
    }
   ],
   "source": [
    "type(quarters)"
   ]
  },
  {
   "cell_type": "code",
   "execution_count": 27,
   "metadata": {},
   "outputs": [
    {
     "name": "stdout",
     "output_type": "stream",
     "text": [
      "<class 'int'>\n"
     ]
    }
   ],
   "source": [
    "print(type(quarters)) #this is how you would actually get it to tell you\n",
    "#you can print the type by nesting the type function in the print function"
   ]
  },
  {
   "cell_type": "code",
   "execution_count": null,
   "metadata": {},
   "outputs": [],
   "source": [
    "# your first two data types are floats and integers\n",
    "\n",
    "#integers are whole numbers 1 \n",
    "#floats are decimal point numbers 1.3 "
   ]
  },
  {
   "cell_type": "code",
   "execution_count": 34,
   "metadata": {},
   "outputs": [
    {
     "data": {
      "text/plain": [
       "'apple'"
      ]
     },
     "execution_count": 34,
     "metadata": {},
     "output_type": "execute_result"
    }
   ],
   "source": [
    "#there are also strings\n",
    "\n",
    "#strings are words not numbers\n",
    "#strings go in quotes \n",
    "\n",
    "word='apple'\n",
    "word"
   ]
  },
  {
   "cell_type": "code",
   "execution_count": 36,
   "metadata": {},
   "outputs": [
    {
     "data": {
      "text/plain": [
       "'7'"
      ]
     },
     "execution_count": 36,
     "metadata": {},
     "output_type": "execute_result"
    }
   ],
   "source": [
    "word='7' #7 is not an integer in this case\n",
    "word"
   ]
  },
  {
   "cell_type": "code",
   "execution_count": 37,
   "metadata": {},
   "outputs": [
    {
     "data": {
      "text/plain": [
       "str"
      ]
     },
     "execution_count": 37,
     "metadata": {},
     "output_type": "execute_result"
    }
   ],
   "source": [
    "type(word) #the string 7 is saved in the variable word "
   ]
  },
  {
   "cell_type": "code",
   "execution_count": 39,
   "metadata": {},
   "outputs": [
    {
     "name": "stdout",
     "output_type": "stream",
     "text": [
      "apple1234u88734\n",
      "<class 'str'>\n"
     ]
    }
   ],
   "source": [
    "#you can put letters and numbers in a string!\n",
    "\n",
    "word = 'apple1234u88734'\n",
    "print(word)\n",
    "print(type(word))"
   ]
  },
  {
   "cell_type": "code",
   "execution_count": 40,
   "metadata": {},
   "outputs": [
    {
     "name": "stdout",
     "output_type": "stream",
     "text": [
      "hello world\n"
     ]
    }
   ],
   "source": [
    "text='hello world'\n",
    "print(text)"
   ]
  },
  {
   "cell_type": "code",
   "execution_count": 41,
   "metadata": {},
   "outputs": [],
   "source": [
    "dfsdkflkdjl='apple' #this is a bad variable name"
   ]
  },
  {
   "cell_type": "code",
   "execution_count": 42,
   "metadata": {
    "scrolled": true
   },
   "outputs": [
    {
     "name": "stdout",
     "output_type": "stream",
     "text": [
      "apple\n"
     ]
    }
   ],
   "source": [
    "print(dfsdkflkdjl)"
   ]
  },
  {
   "cell_type": "markdown",
   "metadata": {},
   "source": [
    "You can change some data types by casting them\n",
    "\n",
    "Casting functions can turn integers into strings \n",
    "\n",
    "int() -> cast to int\n",
    "\n",
    "float() -> cast to float\n",
    "\n",
    "str() -> cast to string "
   ]
  },
  {
   "cell_type": "code",
   "execution_count": 46,
   "metadata": {},
   "outputs": [
    {
     "name": "stdout",
     "output_type": "stream",
     "text": [
      "10\n",
      "<class 'int'>\n"
     ]
    },
    {
     "data": {
      "text/plain": [
       "12"
      ]
     },
     "execution_count": 46,
     "metadata": {},
     "output_type": "execute_result"
    }
   ],
   "source": [
    "x='10' #i am a string\n",
    "x=int(x) # I convert things into int\n",
    "print(x)\n",
    "print(type(x))\n",
    "\n",
    "x+2\n",
    "\n",
    "#float, int, str are data types\n",
    "#they can also be used as functions\n"
   ]
  },
  {
   "cell_type": "code",
   "execution_count": 45,
   "metadata": {},
   "outputs": [
    {
     "ename": "ValueError",
     "evalue": "invalid literal for int() with base 10: 'apple'",
     "output_type": "error",
     "traceback": [
      "\u001b[0;31m---------------------------------------------------------------------------\u001b[0m",
      "\u001b[0;31mValueError\u001b[0m                                Traceback (most recent call last)",
      "\u001b[0;32m<ipython-input-45-5c58e7466a9c>\u001b[0m in \u001b[0;36m<module>\u001b[0;34m\u001b[0m\n\u001b[1;32m      1\u001b[0m \u001b[0mx\u001b[0m\u001b[0;34m=\u001b[0m\u001b[0;34m'apple'\u001b[0m\u001b[0;34m\u001b[0m\u001b[0;34m\u001b[0m\u001b[0m\n\u001b[0;32m----> 2\u001b[0;31m \u001b[0mx\u001b[0m\u001b[0;34m=\u001b[0m\u001b[0mint\u001b[0m\u001b[0;34m(\u001b[0m\u001b[0mx\u001b[0m\u001b[0;34m)\u001b[0m\u001b[0;34m\u001b[0m\u001b[0;34m\u001b[0m\u001b[0m\n\u001b[0m",
      "\u001b[0;31mValueError\u001b[0m: invalid literal for int() with base 10: 'apple'"
     ]
    }
   ],
   "source": [
    "x='apple'\n",
    "x=int(x) #this doesn't work - running this cell will results in an error message \n",
    "\n",
    "\n",
    "#there are two components to an error message\n",
    "\n",
    "#the traceback and the actual error\n",
    "#traceback tells you the line\n",
    "#error messages are often general "
   ]
  },
  {
   "cell_type": "code",
   "execution_count": 1,
   "metadata": {},
   "outputs": [
    {
     "name": "stdout",
     "output_type": "stream",
     "text": [
      "<class 'str'>\n",
      "<class 'float'>\n"
     ]
    }
   ],
   "source": [
    "#we assign the conversion to a new variable name\n",
    "\n",
    "x='10'\n",
    "y=int(x)\n",
    "print(type(x))\n",
    "print(type(y))"
   ]
  },
  {
   "cell_type": "code",
   "execution_count": null,
   "metadata": {},
   "outputs": [],
   "source": [
    "# in this one we overwrite the variable x\n",
    "\n",
    "x='10'\n",
    "x=int(x) # I convert things into int\n",
    "print(x)\n",
    "print(type(x))\n",
    "\n",
    "x+2\n",
    "\n",
    "#float, int, str are data types\n",
    "#they can also be used as functions"
   ]
  },
  {
   "cell_type": "code",
   "execution_count": 51,
   "metadata": {},
   "outputs": [
    {
     "name": "stdout",
     "output_type": "stream",
     "text": [
      "10\n",
      "<class 'int'>\n",
      "<class 'str'>\n",
      "10\n",
      "10\n"
     ]
    },
    {
     "data": {
      "text/plain": [
       "'10'"
      ]
     },
     "execution_count": 51,
     "metadata": {},
     "output_type": "execute_result"
    }
   ],
   "source": [
    "x=10\n",
    "y=str(x)\n",
    "print(y)\n",
    "print(type(x))\n",
    "print(type(y))\n",
    "print(y)\n",
    "print(x)\n",
    "y"
   ]
  },
  {
   "cell_type": "code",
   "execution_count": null,
   "metadata": {},
   "outputs": [],
   "source": [
    "# cool functions so far\n",
    "#print()\n",
    "#type()\n",
    "#int() #these are the same name as data types\n",
    "#str() #they just convert things into another a type\n",
    "#float() #me too"
   ]
  },
  {
   "cell_type": "code",
   "execution_count": null,
   "metadata": {},
   "outputs": [],
   "source": [
    "# here is another function - can you figure out what it does?\n",
    "#len() \n",
    "\n",
    "\n",
    "#help()"
   ]
  },
  {
   "cell_type": "code",
   "execution_count": 2,
   "metadata": {},
   "outputs": [
    {
     "name": "stdout",
     "output_type": "stream",
     "text": [
      "Help on built-in function len in module builtins:\n",
      "\n",
      "len(obj, /)\n",
      "    Return the number of items in a container.\n",
      "\n"
     ]
    }
   ],
   "source": [
    "help(len)"
   ]
  },
  {
   "cell_type": "code",
   "execution_count": null,
   "metadata": {},
   "outputs": [],
   "source": [
    "#python is object oriented \n",
    "#strings, floats, etc are all objects "
   ]
  },
  {
   "cell_type": "code",
   "execution_count": 3,
   "metadata": {},
   "outputs": [
    {
     "name": "stdout",
     "output_type": "stream",
     "text": [
      "Help on built-in function print in module builtins:\n",
      "\n",
      "print(...)\n",
      "    print(value, ..., sep=' ', end='\\n', file=sys.stdout, flush=False)\n",
      "    \n",
      "    Prints the values to a stream, or to sys.stdout by default.\n",
      "    Optional keyword arguments:\n",
      "    file:  a file-like object (stream); defaults to the current sys.stdout.\n",
      "    sep:   string inserted between values, default a space.\n",
      "    end:   string appended after the last value, default a newline.\n",
      "    flush: whether to forcibly flush the stream.\n",
      "\n"
     ]
    }
   ],
   "source": [
    "help(print) #help will tell you what functions do "
   ]
  },
  {
   "cell_type": "code",
   "execution_count": null,
   "metadata": {},
   "outputs": [],
   "source": [
    "### review \n",
    "\n",
    "#data types so far \n",
    "#string\n",
    "#float \n",
    "#integer\n",
    "\n",
    "#functions\n",
    "#print\n",
    "#type\n",
    "#help\n",
    "#int, str, float are casting functions \n",
    "\n",
    "#variables\n",
    "#assigning things to variables\n",
    "#store a value in a variable\n",
    "\n",
    "#computers are good at math\n"
   ]
  },
  {
   "cell_type": "code",
   "execution_count": 4,
   "metadata": {},
   "outputs": [],
   "source": [
    "x='10'"
   ]
  },
  {
   "cell_type": "code",
   "execution_count": 5,
   "metadata": {},
   "outputs": [
    {
     "data": {
      "text/plain": [
       "str"
      ]
     },
     "execution_count": 5,
     "metadata": {},
     "output_type": "execute_result"
    }
   ],
   "source": [
    "type(x)"
   ]
  },
  {
   "cell_type": "code",
   "execution_count": 12,
   "metadata": {},
   "outputs": [],
   "source": [
    "y=int(x) #assignment operator, not evaluation"
   ]
  },
  {
   "cell_type": "code",
   "execution_count": 19,
   "metadata": {},
   "outputs": [
    {
     "data": {
      "text/plain": [
       "int"
      ]
     },
     "execution_count": 19,
     "metadata": {},
     "output_type": "execute_result"
    }
   ],
   "source": [
    "type(y)"
   ]
  },
  {
   "cell_type": "code",
   "execution_count": 21,
   "metadata": {},
   "outputs": [
    {
     "name": "stdout",
     "output_type": "stream",
     "text": [
      "15\n"
     ]
    }
   ],
   "source": [
    "newnumber=y+5\n",
    "print(newnumber)"
   ]
  },
  {
   "cell_type": "code",
   "execution_count": 22,
   "metadata": {},
   "outputs": [
    {
     "name": "stdout",
     "output_type": "stream",
     "text": [
      "17\n"
     ]
    }
   ],
   "source": [
    "print(2+newnumber)"
   ]
  },
  {
   "cell_type": "code",
   "execution_count": 25,
   "metadata": {},
   "outputs": [
    {
     "name": "stdout",
     "output_type": "stream",
     "text": [
      "hahah\n"
     ]
    },
    {
     "data": {
      "text/plain": [
       "'hahah'"
      ]
     },
     "execution_count": 25,
     "metadata": {},
     "output_type": "execute_result"
    }
   ],
   "source": [
    "#another function input\n",
    "\n",
    "input() #asks for user input"
   ]
  },
  {
   "cell_type": "code",
   "execution_count": 26,
   "metadata": {},
   "outputs": [
    {
     "name": "stdout",
     "output_type": "stream",
     "text": [
      "give me favorite colorred\n"
     ]
    },
    {
     "data": {
      "text/plain": [
       "'red'"
      ]
     },
     "execution_count": 26,
     "metadata": {},
     "output_type": "execute_result"
    }
   ],
   "source": [
    "input('give me favorite color')"
   ]
  },
  {
   "cell_type": "code",
   "execution_count": 27,
   "metadata": {},
   "outputs": [
    {
     "name": "stdout",
     "output_type": "stream",
     "text": [
      "what is the length of the object20\n"
     ]
    }
   ],
   "source": [
    "length=input('what is the length of the object')"
   ]
  },
  {
   "cell_type": "code",
   "execution_count": 28,
   "metadata": {},
   "outputs": [
    {
     "data": {
      "text/plain": [
       "'20'"
      ]
     },
     "execution_count": 28,
     "metadata": {},
     "output_type": "execute_result"
    }
   ],
   "source": [
    "length "
   ]
  },
  {
   "cell_type": "code",
   "execution_count": 29,
   "metadata": {},
   "outputs": [
    {
     "name": "stdout",
     "output_type": "stream",
     "text": [
      "20\n"
     ]
    }
   ],
   "source": [
    "print(length)"
   ]
  },
  {
   "cell_type": "code",
   "execution_count": 2,
   "metadata": {},
   "outputs": [
    {
     "ename": "NameError",
     "evalue": "name 'length' is not defined",
     "output_type": "error",
     "traceback": [
      "\u001b[0;31m---------------------------------------------------------------------------\u001b[0m",
      "\u001b[0;31mNameError\u001b[0m                                 Traceback (most recent call last)",
      "\u001b[0;32m<ipython-input-2-0a4feb926f6d>\u001b[0m in \u001b[0;36m<module>\u001b[0;34m\u001b[0m\n\u001b[0;32m----> 1\u001b[0;31m \u001b[0mtype\u001b[0m\u001b[0;34m(\u001b[0m\u001b[0mlength\u001b[0m\u001b[0;34m)\u001b[0m \u001b[0;31m#F\u001b[0m\u001b[0;34m\u001b[0m\u001b[0;34m\u001b[0m\u001b[0m\n\u001b[0m",
      "\u001b[0;31mNameError\u001b[0m: name 'length' is not defined"
     ]
    }
   ],
   "source": [
    "type(length) #CAUTION! THE INPUT FUNCTION RETURNS STRINGS, YOU'LL NEED TO CAST TO INT OR FLOAT"
   ]
  },
  {
   "cell_type": "code",
   "execution_count": 31,
   "metadata": {},
   "outputs": [
    {
     "data": {
      "text/plain": [
       "20"
      ]
     },
     "execution_count": 31,
     "metadata": {},
     "output_type": "execute_result"
    }
   ],
   "source": [
    "int(length)"
   ]
  },
  {
   "cell_type": "code",
   "execution_count": 32,
   "metadata": {},
   "outputs": [
    {
     "data": {
      "text/plain": [
       "20.0"
      ]
     },
     "execution_count": 32,
     "metadata": {},
     "output_type": "execute_result"
    }
   ],
   "source": [
    "float(length)"
   ]
  },
  {
   "cell_type": "code",
   "execution_count": 36,
   "metadata": {},
   "outputs": [
    {
     "name": "stdout",
     "output_type": "stream",
     "text": [
      "what is the length of the object20\n",
      "20\n"
     ]
    }
   ],
   "source": [
    "length=input('what is the length of the object')\n",
    "print(length)\n",
    "float(length) #you did cast it but you need to assign it to a varible\n",
    "len2=float(length) #new variable\n",
    "length=float(length) #overwrite "
   ]
  },
  {
   "cell_type": "code",
   "execution_count": 37,
   "metadata": {},
   "outputs": [
    {
     "data": {
      "text/plain": [
       "20.0"
      ]
     },
     "execution_count": 37,
     "metadata": {},
     "output_type": "execute_result"
    }
   ],
   "source": [
    "length"
   ]
  },
  {
   "cell_type": "code",
   "execution_count": 38,
   "metadata": {},
   "outputs": [
    {
     "data": {
      "text/plain": [
       "20.0"
      ]
     },
     "execution_count": 38,
     "metadata": {},
     "output_type": "execute_result"
    }
   ],
   "source": [
    "len2"
   ]
  },
  {
   "cell_type": "code",
   "execution_count": null,
   "metadata": {},
   "outputs": [],
   "source": [
    "#don't forget, if you wanna save stuff, you have to store in a variable!"
   ]
  },
  {
   "cell_type": "code",
   "execution_count": 39,
   "metadata": {},
   "outputs": [
    {
     "name": "stdout",
     "output_type": "stream",
     "text": [
      "Help on built-in function print in module builtins:\n",
      "\n",
      "print(...)\n",
      "    print(value, ..., sep=' ', end='\\n', file=sys.stdout, flush=False)\n",
      "    \n",
      "    Prints the values to a stream, or to sys.stdout by default.\n",
      "    Optional keyword arguments:\n",
      "    file:  a file-like object (stream); defaults to the current sys.stdout.\n",
      "    sep:   string inserted between values, default a space.\n",
      "    end:   string appended after the last value, default a newline.\n",
      "    flush: whether to forcibly flush the stream.\n",
      "\n"
     ]
    }
   ],
   "source": [
    "help(print)"
   ]
  },
  {
   "cell_type": "code",
   "execution_count": 40,
   "metadata": {},
   "outputs": [
    {
     "name": "stdout",
     "output_type": "stream",
     "text": [
      "Area 600\n"
     ]
    }
   ],
   "source": [
    "length=20\n",
    "width=30\n",
    "area=length*width\n",
    "print('Area:', area) #functions can take multiple input, inputs are separated by commas "
   ]
  },
  {
   "cell_type": "markdown",
   "metadata": {},
   "source": [
    "EXERCISE"
   ]
  },
  {
   "cell_type": "markdown",
   "metadata": {},
   "source": [
    "CAN YOU WRITE A PROGRAM THAT CALCULATES A BILL TOTAL\n",
    "INCLUDING TAX AND TIP\n"
   ]
  },
  {
   "cell_type": "markdown",
   "metadata": {},
   "source": [
    "DON'T SCROLL UNTIL YOU'VE TRIED"
   ]
  },
  {
   "cell_type": "markdown",
   "metadata": {},
   "source": [
    "NO REALLY - SPOILERS BELOW"
   ]
  },
  {
   "cell_type": "markdown",
   "metadata": {},
   "source": [
    "TRY TO SOLVE THE PROBLEM ON YOUR OWN FIRST "
   ]
  },
  {
   "cell_type": "markdown",
   "metadata": {},
   "source": [
    "OK HERE'S A SOLUTION"
   ]
  },
  {
   "cell_type": "code",
   "execution_count": 42,
   "metadata": {},
   "outputs": [
    {
     "name": "stdout",
     "output_type": "stream",
     "text": [
      "whats the charge70\n",
      "92.4\n"
     ]
    }
   ],
   "source": [
    "# tax and tip calculator\n",
    "\n",
    "\n",
    "item_cost=input('whats the charge')\n",
    "bill=float(item_cost)\n",
    "tax_rate=0.07 #we used decimal places \n",
    "tip_rate=0.25\n",
    "tax=bill*tax_rate\n",
    "tip=bill*tip_rate\n",
    "bill_total=tax+tip+bill\n",
    "print(bill_total)\n",
    "\n"
   ]
  },
  {
   "cell_type": "code",
   "execution_count": 43,
   "metadata": {},
   "outputs": [
    {
     "name": "stdout",
     "output_type": "stream",
     "text": [
      "tellme20\n",
      "27.4\n"
     ]
    }
   ],
   "source": [
    "#another solution\n",
    "\n",
    "item_cost=input('tellme')\n",
    "item_cost=float(item_cost)\n",
    "tip_rate=30\n",
    "tax_rate=7\n",
    "tax=item_cost*(tax_rate/100)\n",
    "tip=item_cost*(tip_rate/100)\n",
    "bill_total=item_cost+tax+tip\n",
    "print(bill_total)"
   ]
  },
  {
   "cell_type": "code",
   "execution_count": null,
   "metadata": {},
   "outputs": [],
   "source": [
    "#different looking programs can achieve the same result"
   ]
  },
  {
   "cell_type": "code",
   "execution_count": null,
   "metadata": {},
   "outputs": [],
   "source": [
    "#computers are good at math\n",
    "#python knows all of your math operators\n",
    "#math operators\n",
    "# + - * % //\n",
    "\n",
    "\n",
    "\n",
    "\n",
    "\n"
   ]
  },
  {
   "cell_type": "markdown",
   "metadata": {},
   "source": [
    "Relational or comparison operators "
   ]
  },
  {
   "cell_type": "code",
   "execution_count": 50,
   "metadata": {},
   "outputs": [
    {
     "data": {
      "text/plain": [
       "720"
      ]
     },
     "execution_count": 50,
     "metadata": {},
     "output_type": "execute_result"
    }
   ],
   "source": [
    "#computers are good at logic\n",
    "#relational operators\n",
    "\n",
    "# = is an assignment operator in python, NOT RELATIONAL\n",
    "\n",
    "\n",
    "# you want to be able to evaluate if two things are equal use ==\n",
    "# == equal\n",
    "# > greater than\n",
    "# < less than\n",
    "# >= greater than or equal to\n",
    "#<= less than or equal to\n",
    "# != not equal"
   ]
  },
  {
   "cell_type": "code",
   "execution_count": 52,
   "metadata": {},
   "outputs": [
    {
     "name": "stdout",
     "output_type": "stream",
     "text": [
      "False\n"
     ]
    }
   ],
   "source": [
    "x=10\n",
    "y=30\n",
    "print(x==y) #this will return a boolean (true/false)"
   ]
  },
  {
   "cell_type": "code",
   "execution_count": 54,
   "metadata": {
    "scrolled": true
   },
   "outputs": [
    {
     "name": "stdout",
     "output_type": "stream",
     "text": [
      "True\n"
     ]
    }
   ],
   "source": [
    "x=10\n",
    "\n",
    "print(x<=5000)"
   ]
  },
  {
   "cell_type": "markdown",
   "metadata": {},
   "source": [
    "If else statements"
   ]
  },
  {
   "cell_type": "code",
   "execution_count": null,
   "metadata": {},
   "outputs": [],
   "source": [
    "#if else statements \n",
    "\n",
    "\n",
    "#pro tip, python cares about spacing\n",
    "if some condition: #make sure you include: at the end of line\n",
    "    #what i write next is nested under the if\n",
    "    #if you type : at the end of the line above, it will indent automatically\n",
    "    #if condition you stated is met, program will tunnel into the if statement and do everything here\n",
    "    #then it tunnels out to else if and else statements\n",
    "elif some other condition:\n",
    "    #if input matches this condition it will tunnel into this part oo\n",
    "    #and do whatever you have set up here\n",
    "else: # you do not include a condition to be met for else statements - they are catchalls for any condition not specified\n",
    "    #nested in else statement\n",
    "\n"
   ]
  },
  {
   "cell_type": "markdown",
   "metadata": {},
   "source": [
    "Let's make a program that evaluates whether or not someone can enter a bar\n",
    "\n",
    "\n",
    "\n",
    "\n",
    "use if else logic and relational/comparison operators \n",
    "\n",
    "\n",
    "\n",
    "\n",
    "\n"
   ]
  },
  {
   "cell_type": "markdown",
   "metadata": {},
   "source": [
    "Try to write the program before scrolling\n",
    "\n",
    "\n",
    "\n",
    "\n",
    "\n",
    "\n",
    "\n",
    "Spoilers below"
   ]
  },
  {
   "cell_type": "code",
   "execution_count": 57,
   "metadata": {},
   "outputs": [
    {
     "name": "stdout",
     "output_type": "stream",
     "text": [
      "go away\n"
     ]
    }
   ],
   "source": [
    "# a solution\n",
    "\n",
    "age = 19 #you could totally use input here\n",
    "\n",
    "if age >= 21:\n",
    "    print('come in')\n",
    "\n",
    "elif age >=0 and age<21: #AND!! HOORAY \n",
    "    print('go away')\n",
    "\n",
    "else:\n",
    "    print('???????, error you dont exist)\n",
    "    \n"
   ]
  },
  {
   "cell_type": "code",
   "execution_count": null,
   "metadata": {},
   "outputs": [],
   "source": [
    "#review  \n",
    "\n",
    "\n",
    "#relational operator, comparison operators\n",
    "        # > < >= \n",
    "    \n",
    "#if else logic \n",
    "    #if elif else \n",
    "    \n",
    "    #if ...something...:\n",
    "        #do this stuff\n",
    "    #elif...something...:\n",
    "        #do this stuff\n",
    "    #else:\n",
    "        #cool cool \n",
    "\n"
   ]
  },
  {
   "cell_type": "markdown",
   "metadata": {},
   "source": [
    "Logical operators "
   ]
  },
  {
   "cell_type": "code",
   "execution_count": 1,
   "metadata": {},
   "outputs": [
    {
     "name": "stdout",
     "output_type": "stream",
     "text": [
      "come in\n"
     ]
    }
   ],
   "source": [
    "#there are also logical operators \n",
    "\n",
    "#or, and, not\n",
    "\n",
    "\n",
    "age = 19\n",
    "\n",
    "if not age >=21:\n",
    "    print('come in')\n",
    "else:\n",
    "    print('go away')"
   ]
  },
  {
   "cell_type": "markdown",
   "metadata": {},
   "source": [
    "Membership operators "
   ]
  },
  {
   "cell_type": "code",
   "execution_count": null,
   "metadata": {},
   "outputs": [],
   "source": [
    "#there are also membership operators\n",
    "\n",
    "#in\n",
    "#not in\n",
    "\n",
    "#this is for seeing if something is in a list\n"
   ]
  },
  {
   "cell_type": "code",
   "execution_count": 5,
   "metadata": {},
   "outputs": [
    {
     "data": {
      "text/plain": [
       "9"
      ]
     },
     "execution_count": 5,
     "metadata": {},
     "output_type": "execute_result"
    }
   ],
   "source": [
    "#funny addition to the assignment operator\n",
    "\n",
    "#the assignment operator in python is a single =\n",
    "\n",
    "#+= \n",
    "\n",
    "number=9\n",
    "\n",
    "number +=1  #this will increase the number stored in the variable number but 1\n",
    "\n",
    "number-=1 #you can decrease it too\n",
    "number"
   ]
  },
  {
   "cell_type": "markdown",
   "metadata": {},
   "source": [
    "Can you write a program that takes a test score and tells you the letter grade?\n",
    "\n",
    "\n",
    "Use if else logics\n",
    "\n",
    "Use relational operators and comparison operators \n",
    "\n",
    "\n",
    "\n",
    "\n",
    "\n",
    "\n",
    "\n",
    "Spoilers below\n",
    "\n",
    "\n",
    "\n",
    "\n",
    "\n",
    "\n",
    "\n",
    "\n",
    "\n",
    "\n"
   ]
  },
  {
   "cell_type": "code",
   "execution_count": null,
   "metadata": {},
   "outputs": [],
   "source": [
    "#a solution\n",
    "\n",
    "test_score = 67\n",
    "\n",
    "if test_score >= 90:\n",
    "    print('A')\n",
    "elif test_score >= 80 and test_score <=89:\n",
    "    print ('B')\n",
    "elif test_score >= 70 and test_score <=79:\n",
    "    print('C')\n",
    "elif test_score >=0 and test_score <=69:\n",
    "    print('F')\n",
    "else:\n",
    "    print('what??')\n",
    "    \n",
    "\n",
    "    "
   ]
  },
  {
   "cell_type": "code",
   "execution_count": null,
   "metadata": {},
   "outputs": [],
   "source": [
    "#you can use input \n",
    "test_score = input('gimmie your test score')\n",
    "\n",
    "test_score = float(test_score) #don't forget, input returns strings so youll need to cast\n",
    "if test_score >= 90:\n",
    "    print('A')\n",
    "elif test_score >= 80 and test_score <=89:\n",
    "    print ('B')\n",
    "elif test_score >= 70 and test_score <=79:\n",
    "    print('C')\n",
    "elif test_score >=0 and test_score <=69:\n",
    "    print('F')\n",
    "else:\n",
    "    print('what??')"
   ]
  },
  {
   "cell_type": "markdown",
   "metadata": {},
   "source": [
    "Can you write a program that takes user input about the weather \n",
    "and then gives you advice about what to do\n",
    "\n",
    "Weather could be sunny, rainy, whatever you like\n",
    "\n",
    "\n",
    "\n",
    "\n",
    "\n",
    "\n",
    "Spoilers below\n",
    "\n",
    "\n",
    "\n",
    "\n",
    "\n",
    "\n",
    "\n"
   ]
  },
  {
   "cell_type": "code",
   "execution_count": null,
   "metadata": {},
   "outputs": [],
   "source": [
    "# lets do an exercise where you get a user input about the weather\n",
    "#you give them advice about what they should do\n",
    "#sunny, rainy\n",
    "\n",
    "weather = input('whats it like outside? sunny? rainy?')\n",
    "\n",
    "if weather == 'sunny':\n",
    "    print('playplay')\n",
    "elif weather == 'rainy':\n",
    "    print('goaway')\n",
    "else:\n",
    "    print('shelter in place')\n",
    "    \n",
    "    \n",
    "    #this exercise deals with strings \n",
    "    #when accepting user inputs, people will type weird stuff\n",
    "    #that might lead to cleaning up to do!"
   ]
  },
  {
   "cell_type": "markdown",
   "metadata": {},
   "source": [
    "Methods "
   ]
  },
  {
   "cell_type": "code",
   "execution_count": null,
   "metadata": {},
   "outputs": [],
   "source": [
    "#functions \n",
    "#put in input and get output\n",
    "#there are all kinds of functions ready to go in python\n",
    "\n",
    "#methods\n",
    "#methods are like a function, in that its a preloaded thing you can use\n",
    "#these are usually really useful thing\n",
    "\n",
    "#there are a lot of methods for strings and lists"
   ]
  },
  {
   "cell_type": "code",
   "execution_count": 9,
   "metadata": {},
   "outputs": [
    {
     "name": "stdout",
     "output_type": "stream",
     "text": [
      "HoOray\n",
      "hooray\n"
     ]
    }
   ],
   "source": [
    "word='HoOray' #this is a string \n",
    "fixed_string=word.lower() #strings have methods, lower is a method\n",
    "print(word)\n",
    "print(fixed_string)"
   ]
  },
  {
   "cell_type": "code",
   "execution_count": null,
   "metadata": {},
   "outputs": [],
   "source": [
    "weather = input('whats it like outside? sunny? rainy?')\n",
    "\n",
    "#you can use string methods to fix wonky user inputs \n",
    "#input produces a string\n",
    "#but people are dumb and idiosyncratic\n",
    "\n",
    "weather = weather.lower() #helps you fix funky inputs \n",
    "\n",
    "if weather == 'sunny':\n",
    "    print('playplay')\n",
    "elif weather == 'rainy':\n",
    "    print('goaway')\n",
    "else:\n",
    "    print('shelter in place')\n",
    "    "
   ]
  },
  {
   "cell_type": "code",
   "execution_count": null,
   "metadata": {},
   "outputs": [],
   "source": [
    "#just like there are lots of functions, there are lots of methods\n",
    "#methods for strings\n",
    "#methods for lists"
   ]
  },
  {
   "cell_type": "markdown",
   "metadata": {},
   "source": [
    "Lists "
   ]
  },
  {
   "cell_type": "code",
   "execution_count": null,
   "metadata": {},
   "outputs": [],
   "source": [
    "#lists \n",
    "\n",
    "#lists are another data type\n",
    "\n",
    "#theyre cool, they are a place to store a bunch of store\n",
    "#previously we were just putting 1 thing in a variable\n",
    "#you assigned strings, int, floats to a variable\n",
    "\n",
    "\n",
    "\n",
    "#lists can store multiple things\n",
    "\n",
    "#you can store multiple types in a list\n",
    "#ie you can store int and strings in a list \n",
    "#heterogeneous \n",
    "\n",
    "#lists are sequential\n",
    "#ie ordered\n",
    "\n",
    "#lists are mutable\n",
    "#this just means you can change them \n",
    "\n",
    "#lists have methods like strings do\n",
    "\n",
    "#lists are sliceable - this will make sense later\n",
    "#lists are iterable  - this will mkae sense later \n",
    "\n",
    "\n",
    "#sliceable and iterable are related to indexing which is coming"
   ]
  },
  {
   "cell_type": "code",
   "execution_count": 10,
   "metadata": {},
   "outputs": [
    {
     "data": {
      "text/plain": [
       "'Jessica'"
      ]
     },
     "execution_count": 10,
     "metadata": {},
     "output_type": "execute_result"
    }
   ],
   "source": [
    "#indexing refers to location\n",
    "#items in a list have a location\n",
    "\n",
    "names = ['nick', 'celeste', 'jim']\n",
    "#the brackets are the listy thing \n",
    "\n",
    "#each item in a list has a location\n",
    "names[1]\n",
    "\n",
    "#position in computers starts not at 1 but at 0\n",
    "\n",
    "#so list[0] gives you the first item in the list \n",
    "\n",
    "names[0] #this is the location, this is the index location"
   ]
  },
  {
   "cell_type": "code",
   "execution_count": 15,
   "metadata": {},
   "outputs": [
    {
     "name": "stdout",
     "output_type": "stream",
     "text": [
      "['jessica', 'jennifer', 'julia', 'heather']\n"
     ]
    }
   ],
   "source": [
    "#there are so many methods\n",
    "\n",
    "my_list = ['jessica', 'jennifer', 'julia']\n",
    "#my_list.insert(index, value)\n",
    "my_list.insert(4,'heather')\n",
    "print(my_list)\n",
    "\n",
    "\n",
    "\n",
    "#my_list.pop(index, value) # this method is for popping \n",
    "#something out of a list\n",
    "\n",
    "x= my_list.pop(1) "
   ]
  },
  {
   "cell_type": "code",
   "execution_count": 16,
   "metadata": {},
   "outputs": [
    {
     "data": {
      "text/plain": [
       "['jessica', 'julia', 'heather']"
      ]
     },
     "execution_count": 16,
     "metadata": {},
     "output_type": "execute_result"
    }
   ],
   "source": [
    "my_list"
   ]
  },
  {
   "cell_type": "code",
   "execution_count": 17,
   "metadata": {},
   "outputs": [
    {
     "data": {
      "text/plain": [
       "'jennifer'"
      ]
     },
     "execution_count": 17,
     "metadata": {},
     "output_type": "execute_result"
    }
   ],
   "source": [
    "x"
   ]
  },
  {
   "cell_type": "code",
   "execution_count": 18,
   "metadata": {},
   "outputs": [
    {
     "name": "stdout",
     "output_type": "stream",
     "text": [
      "['jessica', 'julia', 'heather']\n"
     ]
    }
   ],
   "source": [
    "print(my_list)"
   ]
  },
  {
   "cell_type": "code",
   "execution_count": 19,
   "metadata": {},
   "outputs": [
    {
     "data": {
      "text/plain": [
       "'julia'"
      ]
     },
     "execution_count": 19,
     "metadata": {},
     "output_type": "execute_result"
    }
   ],
   "source": [
    "my_list[1]"
   ]
  },
  {
   "cell_type": "markdown",
   "metadata": {},
   "source": [
    "Slicing and iteration"
   ]
  },
  {
   "cell_type": "code",
   "execution_count": null,
   "metadata": {},
   "outputs": [],
   "source": [
    "#review \n",
    "\n",
    "#we learned a new data type - lists\n",
    "#[], different types can go in a list, they can even go in a list \n",
    "#together\n",
    "\n",
    "\n",
    "#mutable, \n",
    "\n",
    "#sliceable\n",
    "\n",
    "#iterable\n"
   ]
  },
  {
   "cell_type": "code",
   "execution_count": 1,
   "metadata": {},
   "outputs": [
    {
     "data": {
      "text/plain": [
       "[1, 2, 3, 4, 1.1, 'h']"
      ]
     },
     "execution_count": 1,
     "metadata": {},
     "output_type": "execute_result"
    }
   ],
   "source": [
    "my_list = [1,2,3,4,1.1,'h']\n",
    "my_list"
   ]
  },
  {
   "cell_type": "code",
   "execution_count": 3,
   "metadata": {},
   "outputs": [
    {
     "name": "stdout",
     "output_type": "stream",
     "text": [
      "4\n",
      "[1, 2, 3, 1.1, 'h']\n"
     ]
    }
   ],
   "source": [
    "#we also learned methods\n",
    "\n",
    "#theyre like specialized functions for specific datatypes\n",
    "\n",
    "#lists and string have lots of methods\n",
    "\n",
    "x=my_list.pop(3)\n",
    "print(x)\n",
    "print(my_list)"
   ]
  },
  {
   "cell_type": "code",
   "execution_count": 4,
   "metadata": {},
   "outputs": [],
   "source": [
    "my_list.insert(4,'qq') #you can insert stuff into the list if you specify the index and the item you want to insert"
   ]
  },
  {
   "cell_type": "code",
   "execution_count": 5,
   "metadata": {},
   "outputs": [
    {
     "data": {
      "text/plain": [
       "[1, 2, 3, 1.1, 'qq', 'h']"
      ]
     },
     "execution_count": 5,
     "metadata": {},
     "output_type": "execute_result"
    }
   ],
   "source": [
    "print(my_list)"
   ]
  },
  {
   "cell_type": "markdown",
   "metadata": {},
   "source": [
    "Slicing"
   ]
  },
  {
   "cell_type": "code",
   "execution_count": null,
   "metadata": {},
   "outputs": [],
   "source": [
    "#slicing is useful for sequential data types\n",
    "\n",
    "#there are 3 things you need to know\n",
    "#where to start\n",
    "#where to stop\n",
    "#the step, the increment"
   ]
  },
  {
   "cell_type": "code",
   "execution_count": 14,
   "metadata": {},
   "outputs": [
    {
     "data": {
      "text/plain": [
       "['einstein', 'newton', 'curie', 'degrasse tyson', 'mcclintok']"
      ]
     },
     "execution_count": 14,
     "metadata": {},
     "output_type": "execute_result"
    }
   ],
   "source": [
    "names=['einstein', 'newton', 'curie', 'degrasse tyson', 'mcclintok']\n",
    "names"
   ]
  },
  {
   "cell_type": "code",
   "execution_count": 22,
   "metadata": {},
   "outputs": [],
   "source": [
    "x=names[1:4:1] # you write the start, stop, and step\n",
    "#it will give you that part of the list"
   ]
  },
  {
   "cell_type": "code",
   "execution_count": 20,
   "metadata": {},
   "outputs": [
    {
     "data": {
      "text/plain": [
       "'jennifer'"
      ]
     },
     "execution_count": 20,
     "metadata": {},
     "output_type": "execute_result"
    }
   ],
   "source": [
    "x"
   ]
  },
  {
   "cell_type": "code",
   "execution_count": null,
   "metadata": {},
   "outputs": [],
   "source": [
    "x=names[1:10:1]"
   ]
  },
  {
   "cell_type": "code",
   "execution_count": null,
   "metadata": {},
   "outputs": [],
   "source": [
    "#the start is inclusive\n",
    "#the stop in slicing is exclusive"
   ]
  },
  {
   "cell_type": "code",
   "execution_count": 25,
   "metadata": {},
   "outputs": [
    {
     "data": {
      "text/plain": [
       "[]"
      ]
     },
     "execution_count": 25,
     "metadata": {},
     "output_type": "execute_result"
    }
   ],
   "source": [
    "x=names[10:20:1]\n",
    "x"
   ]
  },
  {
   "cell_type": "code",
   "execution_count": 26,
   "metadata": {},
   "outputs": [],
   "source": [
    "#slicing is how you can access sections of stuff\n",
    "names=names[1:2:1]"
   ]
  },
  {
   "cell_type": "code",
   "execution_count": 27,
   "metadata": {},
   "outputs": [
    {
     "data": {
      "text/plain": [
       "['newton']"
      ]
     },
     "execution_count": 27,
     "metadata": {},
     "output_type": "execute_result"
    }
   ],
   "source": [
    "names"
   ]
  },
  {
   "cell_type": "code",
   "execution_count": null,
   "metadata": {},
   "outputs": [],
   "source": [
    "#if you want to change the list when you slice it\n",
    "#youll have to save that\n",
    "#by assigning it to a variable"
   ]
  },
  {
   "cell_type": "code",
   "execution_count": 12,
   "metadata": {},
   "outputs": [],
   "source": [
    "names=['einstein', 'newton', 'curie', 'degrasse tyson', 'mcclintok']\n"
   ]
  },
  {
   "cell_type": "code",
   "execution_count": 13,
   "metadata": {},
   "outputs": [
    {
     "data": {
      "text/plain": [
       "['mcclintok', 'degrasse tyson', 'curie', 'newton', 'einstein']"
      ]
     },
     "execution_count": 13,
     "metadata": {},
     "output_type": "execute_result"
    }
   ],
   "source": [
    "#you can use negative step\n",
    "\n",
    "#negative step reverses it \n",
    "\n",
    "names[::-1]\n"
   ]
  },
  {
   "cell_type": "code",
   "execution_count": null,
   "metadata": {},
   "outputs": [],
   "source": [
    "#we've been doing this slicing to lists \n",
    "\n",
    "#but you can do this to strings too!"
   ]
  },
  {
   "cell_type": "code",
   "execution_count": 10,
   "metadata": {},
   "outputs": [],
   "source": [
    "name='einstein'"
   ]
  },
  {
   "cell_type": "code",
   "execution_count": 11,
   "metadata": {},
   "outputs": [
    {
     "data": {
      "text/plain": [
       "'nietsnie'"
      ]
     },
     "execution_count": 11,
     "metadata": {},
     "output_type": "execute_result"
    }
   ],
   "source": [
    "name[::-1]"
   ]
  },
  {
   "cell_type": "code",
   "execution_count": 9,
   "metadata": {},
   "outputs": [],
   "source": [
    "#so in the list\n",
    "#the items are the names/strings\n",
    "#it is a list of strings\n",
    "\n",
    "names=['einstein', 'newton', 'curie', 'degrasse tyson', 'mcclintok']\n"
   ]
  },
  {
   "cell_type": "code",
   "execution_count": 8,
   "metadata": {},
   "outputs": [],
   "source": [
    "#in the string name\n",
    "#the items are the letters \n",
    "name='einstein'"
   ]
  },
  {
   "cell_type": "markdown",
   "metadata": {},
   "source": [
    "Iteration\n",
    "\n",
    "and \n",
    "\n",
    "for loops"
   ]
  },
  {
   "cell_type": "code",
   "execution_count": null,
   "metadata": {},
   "outputs": [],
   "source": [
    "#you can iterate over the items in strings and lists\n",
    "#iteration is achieved using for loops\n",
    "#its kind of similar to if else\n",
    "#in that you articulate a condition for.....\n",
    "    #then you have content that is nested underneath that \n",
    "#it iterates over what you specificied and does the instruction you nested inside\n"
   ]
  },
  {
   "cell_type": "code",
   "execution_count": 6,
   "metadata": {},
   "outputs": [
    {
     "name": "stdout",
     "output_type": "stream",
     "text": [
      "e\n",
      "i\n",
      "n\n",
      "s\n",
      "t\n",
      "e\n",
      "i\n",
      "n\n",
      "einstein\n"
     ]
    }
   ],
   "source": [
    "string='einstein'\n",
    "\n",
    "for items in string:\n",
    "    print(items)\n",
    "    \n",
    "print(string)"
   ]
  },
  {
   "cell_type": "code",
   "execution_count": 7,
   "metadata": {},
   "outputs": [
    {
     "name": "stdout",
     "output_type": "stream",
     "text": [
      "w\n",
      "a\n",
      "s\n",
      "h\n",
      "i\n",
      "n\n",
      "g\n",
      "t\n",
      "o\n",
      "n\n"
     ]
    }
   ],
   "source": [
    "string='washington'\n",
    "\n",
    "for i in string:\n",
    "    print(i)"
   ]
  },
  {
   "cell_type": "code",
   "execution_count": 5,
   "metadata": {},
   "outputs": [
    {
     "name": "stdout",
     "output_type": "stream",
     "text": [
      "j\n",
      "e\n",
      "m\n",
      "i\n",
      "s\n",
      "o\n",
      "n\n"
     ]
    }
   ],
   "source": [
    "string='jemison'\n",
    "\n",
    "for letter in string:\n",
    "    print(letter)"
   ]
  },
  {
   "cell_type": "code",
   "execution_count": 4,
   "metadata": {},
   "outputs": [
    {
     "name": "stdout",
     "output_type": "stream",
     "text": [
      "f\n",
      "e\n",
      "y\n",
      "n\n",
      "m\n",
      "a\n",
      "n\n"
     ]
    }
   ],
   "source": [
    "string='feynman'\n",
    "\n",
    "for index in string:\n",
    "    print(index)"
   ]
  },
  {
   "cell_type": "code",
   "execution_count": 3,
   "metadata": {},
   "outputs": [
    {
     "name": "stdout",
     "output_type": "stream",
     "text": [
      "h\n",
      "e\n",
      "i\n",
      "s\n",
      "e\n",
      "n\n",
      "b\n",
      "e\n",
      "r\n",
      "g\n"
     ]
    }
   ],
   "source": [
    "string='heisenberg'\n",
    "\n",
    "for i in string:\n",
    "    print(i)"
   ]
  },
  {
   "cell_type": "code",
   "execution_count": 1,
   "metadata": {},
   "outputs": [],
   "source": [
    "#you can also iterate over the items in a list\n",
    "\n",
    "name_list = ['einstein', 'curie', 'jemison']"
   ]
  },
  {
   "cell_type": "code",
   "execution_count": 2,
   "metadata": {},
   "outputs": [
    {
     "name": "stdout",
     "output_type": "stream",
     "text": [
      "einstein\n",
      "curie\n",
      "jemison\n"
     ]
    }
   ],
   "source": [
    "for i in name_list:\n",
    "    print(i)"
   ]
  },
  {
   "cell_type": "markdown",
   "metadata": {},
   "source": [
    "Can you write a program\n",
    "\n",
    "That adds up all of the values in a list\n",
    "\n",
    "values = [1,2,3] #this is the list\n",
    "\n",
    "\n",
    "Use a for loop and iterate over the list items\n",
    "\n",
    "\n",
    "Hint:\n",
    "it is useful to make new variables sometimes \n",
    "\n",
    "don't forget you can add to a variable using += value you want to add\n",
    "\n",
    "\n",
    "\n",
    "\n",
    "\n",
    "\n",
    "\n",
    "\n",
    "\n",
    "Spoilers below\n",
    "\n",
    "\n",
    "\n",
    "\n",
    "\n",
    "\n",
    "\n",
    "\n",
    "\n"
   ]
  },
  {
   "cell_type": "code",
   "execution_count": null,
   "metadata": {},
   "outputs": [],
   "source": [
    "#what if i gave you a list of integers, they are all saved\n",
    "#separately\n",
    "#could you use iteration to sum up all of the values\n",
    "\n",
    "values=[1,2,3]\n",
    "\n",
    "\n",
    "#in a for loop, under for the for you can tell it do anything\n",
    "\n",
    "#new variables are defined before the for loop\n",
    "sum=0\n",
    "\n",
    "for i in values:\n",
    "    print(i)\n",
    "    #i can do more stuff here, \n",
    "    #including getting that new variable involved\n"
   ]
  },
  {
   "cell_type": "code",
   "execution_count": null,
   "metadata": {},
   "outputs": [],
   "source": [
    "#dont forget theres this cool thing were you an +=\n",
    "# to add to a variable\n",
    "#and you can even just add things to variable names\n",
    "#you can even use var_name + something \n",
    "\n",
    "#and something you need to get new variables involved to \n",
    "#solve problems"
   ]
  },
  {
   "cell_type": "code",
   "execution_count": null,
   "metadata": {},
   "outputs": [],
   "source": [
    "values =[1,2,3]\n",
    "\n",
    "total=0\n",
    "for i in values:\n",
    "    total+=i\n",
    "print(total)\n",
    "\n",
    "\n"
   ]
  },
  {
   "cell_type": "code",
   "execution_count": null,
   "metadata": {},
   "outputs": [],
   "source": [
    "#example\n",
    "\n",
    "values =[2,2,4,5,2]\n",
    "\n",
    "total_2 = 0\n",
    "\n",
    "for i in values:\n",
    "    if i == 2:\n",
    "        total_2 += 1\n",
    "        \n",
    "print (total_2)\n"
   ]
  },
  {
   "cell_type": "code",
   "execution_count": null,
   "metadata": {},
   "outputs": [],
   "source": [
    "# of course, you can always use the sum function\n",
    "\n",
    "total=sum(values)"
   ]
  },
  {
   "cell_type": "code",
   "execution_count": null,
   "metadata": {},
   "outputs": [],
   "source": [
    "#don't forget, there are methods for lists\n",
    "\n",
    "help(list.count)"
   ]
  },
  {
   "cell_type": "code",
   "execution_count": null,
   "metadata": {},
   "outputs": [],
   "source": [
    "values =[2,2,4,5,2]\n",
    "\n",
    "gimme= values.count(2)\n",
    "\n",
    "print(gimme)\n",
    "\n",
    "#this gives you the quantity of that item in the list"
   ]
  },
  {
   "cell_type": "markdown",
   "metadata": {},
   "source": [
    "Can you write a Python program that \n",
    "accepts a string and calculate the number of digits and letters. \n",
    "use: help() to learn how to use isalpha() and isdigit()\n",
    "\n",
    "help(str.isalpha)\n",
    "\n",
    "\n",
    "\n",
    "help(str.isdigit)\n",
    "\n",
    "\n",
    "you can combine for loops with if else statements\n",
    "\n",
    "\n",
    "\n"
   ]
  },
  {
   "cell_type": "code",
   "execution_count": null,
   "metadata": {},
   "outputs": [],
   "source": [
    "\n",
    "\n",
    "string='apple123'\n",
    "\n",
    "for i in string:\n",
    "    print(i)"
   ]
  },
  {
   "cell_type": "code",
   "execution_count": null,
   "metadata": {},
   "outputs": [],
   "source": [
    "#a solution\n",
    "\n",
    "\n",
    "string='apple123'\n",
    "\n",
    "total_letter=0\n",
    "total_number=0\n",
    "\n",
    "for i in string:\n",
    "    print(i)\n",
    "    if i.isalpha():\n",
    "        total_letter +=1\n",
    "    elif i.isdigit():\n",
    "        total_number +=1\n",
    "print('letters:', total_letter)\n",
    "print('numbers:', total_number)"
   ]
  },
  {
   "cell_type": "markdown",
   "metadata": {},
   "source": [
    "Create a Temperature converter, Celsius to Fahrenheit:\n",
    "0 degrees Celsius is equal to 32 degrees Fahrenheit:\n",
    " 0 °C = 32 °F\n",
    " The temperature T in degrees Fahrenheit (°F) is equal to the temperature T in degrees Celsius (°C) times 9/5 plus 32:\n",
    " T(°F) = T(°C) × 9/5 + 32\n",
    "\n",
    "Example:\n",
    " Convert 20 degrees Celsius to degrees Fahrenheit:\n",
    "T(°F) = 20°C × 9/5 + 32 = 68 °F\n",
    "\n",
    "Add:\n",
    " if Fahrenheit is more than 90, print statement \"a heat warning\", if Fahrenheit is less than 30, print statement \"a cold warning\"\n",
    "\n",
    "\n",
    "\n",
    "\n",
    "\n",
    "\n",
    "\n",
    "\n",
    "\n",
    "\n",
    "\n",
    "\n",
    "\n",
    "\n",
    "\n",
    "\n",
    "\n",
    "\n",
    "\n",
    "\n",
    "\n",
    "\n",
    "\n",
    "\n",
    "\n",
    "spoilers below\n",
    "\n",
    "\n"
   ]
  },
  {
   "cell_type": "code",
   "execution_count": null,
   "metadata": {},
   "outputs": [],
   "source": [
    "# a solution\n",
    "\n",
    "c_temp = input('what is temp outside in c')\n",
    "c_temp= float(c_temp)\n",
    "\n",
    "f_temp = c_temp * 9 / 5 + 32\n",
    "\n",
    "if f_temp > 90:\n",
    "    print('heat warning')\n",
    "else:\n",
    "    print('chillax')\n",
    "    \n",
    "    "
   ]
  },
  {
   "cell_type": "markdown",
   "metadata": {},
   "source": [
    "In this exercise you will create \n",
    " a program that reads a letter of the alphabet from the user. \n",
    "If the user enters a, e, i, o or u then your program should \n",
    " display a message indicating that the entered letter is a vowel. \n",
    " If the user enters y then your program should display a message \n",
    " indicating that sometimes y is a vowel, and sometimes y is a \n",
    " consonant. Otherwise your program should display a message \n",
    " indicating that the letter is a consonant.\n",
    " \n",
    " \n",
    " \n",
    " \n",
    " \n",
    " \n",
    " \n",
    " spoilers below\n",
    " \n",
    " "
   ]
  },
  {
   "cell_type": "code",
   "execution_count": null,
   "metadata": {},
   "outputs": [],
   "source": [
    "#a solution\n",
    "\n",
    "vowels= ['a', 'e', 'i', 'o', 'u']\n",
    "\n",
    "letter= input('type any letter of your choice')\n",
    "\n",
    "letter=letter.lower()\n",
    "\n",
    "if letter in vowels:\n",
    "    print ('vowel')\n",
    "elif letter.isdigit():\n",
    "    print('bad bad bad')\n",
    "else:\n",
    "    print ('consonant')"
   ]
  },
  {
   "cell_type": "markdown",
   "metadata": {},
   "source": [
    "You can also iterate over a range\n",
    "\n",
    "syntax looks like this \n",
    "\n",
    "for i in range (start, end):\n",
    "\n"
   ]
  },
  {
   "cell_type": "code",
   "execution_count": 24,
   "metadata": {},
   "outputs": [
    {
     "name": "stdout",
     "output_type": "stream",
     "text": [
      "1\n",
      "2\n",
      "3\n",
      "4\n"
     ]
    }
   ],
   "source": [
    "for i in range(1,5): #like slicing, start is inclusive and stop is exclusive \n",
    "    print(i)"
   ]
  },
  {
   "cell_type": "markdown",
   "metadata": {},
   "source": [
    " Write a Python program which iterates the integers from 1 to 100. \n",
    " For multiples of three print \"Fizz\" instead of the number and \n",
    " for the multiples of five print \"Buzz\". \n",
    " For numbers which are multiples of both three and five print \n",
    " \"FizzBuzz\".\n",
    " \n",
    " \n",
    " \n",
    " \n",
    " \n",
    " hint - iterate over range 1 to 100 \n",
    " \n",
    " \n",
    " \n",
    " \n",
    " \n",
    " Spoilers below"
   ]
  },
  {
   "cell_type": "code",
   "execution_count": null,
   "metadata": {},
   "outputs": [],
   "source": [
    "# a solution\n",
    "\n",
    "for i in range (1,101):\n",
    "    if i%3 == 0 and i%5 ==0:\n",
    "        print('fizzbuzz')\n",
    "    elif i%3 == 0:\n",
    "        print('fizz')\n",
    "    elif i%5 ==0:\n",
    "        print('buzz')\n",
    "    else:\n",
    "        print(i)"
   ]
  },
  {
   "cell_type": "code",
   "execution_count": null,
   "metadata": {},
   "outputs": [],
   "source": [
    "# Write a Python program to construct the following pattern.\n",
    "\n",
    "#  * \n",
    "#  * * \n",
    "#  * * * \n",
    "#  * * * * \n",
    "#  * * * * * \n",
    "#  * * * * \n",
    "#  * * * \n",
    "#  * * \n",
    "#  *\n",
    " \n",
    " \n",
    " \n",
    "#  protip you can use mathematical operators on strings in python lol\n",
    " \n",
    "#  ex print('cat'*3)\n",
    " \n",
    " \n",
    " \n",
    " \n",
    " \n",
    " \n",
    "\n",
    "\n",
    "\n",
    "\n",
    "\n",
    "\n",
    "\n",
    "\n",
    "\n",
    "\n",
    "\n",
    "\n",
    "#  spoilers below "
   ]
  },
  {
   "cell_type": "code",
   "execution_count": 22,
   "metadata": {},
   "outputs": [
    {
     "name": "stdout",
     "output_type": "stream",
     "text": [
      "*\n",
      "**\n",
      "***\n",
      "****\n",
      "*****\n",
      "****\n",
      "***\n",
      "**\n",
      "*\n"
     ]
    }
   ],
   "source": [
    "# a soluton \n",
    "\n",
    "\n",
    "for i in range (1,5):\n",
    "    print('*'*i)\n",
    "    \n",
    "for i in range (5,0, -1):\n",
    "    print('*'*i)"
   ]
  },
  {
   "cell_type": "code",
   "execution_count": 21,
   "metadata": {},
   "outputs": [
    {
     "name": "stdout",
     "output_type": "stream",
     "text": [
      "*\n",
      "**\n",
      "***\n",
      "****\n",
      "*****\n",
      "******\n",
      "*******\n",
      "********\n",
      "*********\n",
      "**********\n",
      "*********\n",
      "********\n",
      "*******\n",
      "******\n",
      "*****\n",
      "****\n",
      "***\n",
      "**\n",
      "*\n"
     ]
    }
   ],
   "source": [
    "#another solution \n",
    "pattern='*'\n",
    "\n",
    "longest_row=10\n",
    "\n",
    "for i in range (1,longest_row):\n",
    "    print(pattern*i)\n",
    "    \n",
    "for i in range (longest_row,0, -1):\n",
    "    print(pattern*i)"
   ]
  },
  {
   "cell_type": "code",
   "execution_count": 1,
   "metadata": {},
   "outputs": [
    {
     "data": {
      "text/plain": [
       "'e'"
      ]
     },
     "execution_count": 1,
     "metadata": {},
     "output_type": "execute_result"
    }
   ],
   "source": [
    "#just like you slice lists, you can slice strings\n",
    "\n",
    "word_list =['cat','apple','snowman'] # 0, 1 , 2\n",
    "\n",
    "word ='apple' #01234\n",
    "word[0]\n",
    "word[-1]"
   ]
  },
  {
   "cell_type": "code",
   "execution_count": 2,
   "metadata": {},
   "outputs": [
    {
     "name": "stdout",
     "output_type": "stream",
     "text": [
      "app\n"
     ]
    }
   ],
   "source": [
    "#slicing\n",
    "\n",
    "word='apple'\n",
    "\n",
    "abbrev=word[0:3:1]\n",
    "\n",
    "print(abbrev)"
   ]
  },
  {
   "cell_type": "code",
   "execution_count": 3,
   "metadata": {},
   "outputs": [
    {
     "name": "stdout",
     "output_type": "stream",
     "text": [
      "pl\n"
     ]
    }
   ],
   "source": [
    "word='apple'\n",
    "\n",
    "abbrev=word[2:4:1]\n",
    "print(abbrev)"
   ]
  },
  {
   "cell_type": "code",
   "execution_count": null,
   "metadata": {},
   "outputs": [],
   "source": [
    "word='apple'\n",
    "len(word)\n",
    "\n",
    "word[0::2]\n",
    "\n",
    "word[0:len(word)-2:1]\n"
   ]
  },
  {
   "cell_type": "code",
   "execution_count": null,
   "metadata": {},
   "outputs": [],
   "source": [
    "word='apple'\n",
    "length=len(word)\n",
    "word[length-1:2:-1]"
   ]
  },
  {
   "cell_type": "code",
   "execution_count": null,
   "metadata": {},
   "outputs": [],
   "source": [
    "word='apple'\n",
    "\n",
    "word[-1::-1] #reverse a string or list"
   ]
  },
  {
   "cell_type": "markdown",
   "metadata": {},
   "source": [
    "Can you slice a phone number \n",
    "and parse out the country code, \n",
    "area code, \n",
    "prefix, \n",
    "and line ?\n",
    "\n",
    "\n",
    "\n",
    "\n",
    "\n",
    "\n",
    "\n",
    "\n",
    "\n",
    "\n",
    "Spoilers below...."
   ]
  },
  {
   "cell_type": "code",
   "execution_count": null,
   "metadata": {},
   "outputs": [],
   "source": [
    "phone_number='15556542478'\n",
    "\n",
    "#country_code = phone_number[0:1:1]\n",
    "country_code = phone_number[0]\n",
    "\n",
    "area_code = phone_number[1:4:1]\n",
    "\n",
    "prefix = phone_number[4:7:1]\n",
    "\n",
    "#line =phone_number[7:12:1]\n",
    "line =phone_number[7::1]\n",
    "\n",
    "\n",
    "\n",
    "print(country_code)\n",
    "print(area_code)\n",
    "print(prefix)\n",
    "print(line)"
   ]
  },
  {
   "cell_type": "code",
   "execution_count": 1,
   "metadata": {},
   "outputs": [
    {
     "name": "stdout",
     "output_type": "stream",
     "text": [
      "apple\n",
      "cat\n",
      "snowman\n",
      "['kangaroo', 'cat', 'snowman']\n"
     ]
    }
   ],
   "source": [
    "#indexing, going through and changing lists\n",
    "\n",
    "word_list = ['apple', 'cat', 'snowman']\n",
    "\n",
    "for i in word_list:\n",
    "    print(i)\n",
    "    \n",
    "#what if you want location\n",
    "\n",
    "word_list[0]='kangaroo' #this changes the original list at that index location!\n",
    "\n",
    "print(word_list)"
   ]
  },
  {
   "cell_type": "code",
   "execution_count": null,
   "metadata": {},
   "outputs": [],
   "source": [
    "#you can apply methods to list items through indexing\n",
    "\n",
    "word_list = ['apple', 'cat', 'snowman']\n",
    "\n",
    "\n",
    "for i in range (0,len(word_list),1):\n",
    "    word_list[i]=word_list[i].upper()\n",
    "    \n",
    "print(word_list)"
   ]
  },
  {
   "cell_type": "markdown",
   "metadata": {},
   "source": [
    "Can you write a program that changes the existing list of temperatures from c to f?\n",
    "\n",
    "\n",
    "\n",
    "\n",
    "\n",
    "\n",
    "\n",
    "\n",
    "\n",
    "\n",
    "\n",
    "\n",
    "\n",
    "\n",
    "\n",
    "Spoilers below!"
   ]
  },
  {
   "cell_type": "code",
   "execution_count": 4,
   "metadata": {},
   "outputs": [
    {
     "name": "stdout",
     "output_type": "stream",
     "text": [
      "5\n",
      "0\n",
      "1\n",
      "2\n",
      "3\n",
      "4\n",
      "[32.0, 50.0, 68.0, 86.0, 104.0]\n"
     ]
    }
   ],
   "source": [
    "#changing an existing list\n",
    "\n",
    "temps=[0,10,20,30,40]\n",
    "\n",
    "#they are in c but should be in f, plz change\n",
    "\n",
    "print(len(temps))\n",
    "for i in range (0,len(temps)):\n",
    "    print(i)\n",
    "    temps[i] = temps[i] * 9 / 5 + 32\n",
    "\n",
    "print(temps)"
   ]
  },
  {
   "cell_type": "markdown",
   "metadata": {},
   "source": [
    "Can you create a program that iterates over a list of items and sets double digit numbers to *2?\n",
    "\n",
    "\n",
    "\n",
    "\n",
    "\n",
    "\n",
    "\n",
    "\n",
    "\n",
    "\n",
    "\n",
    "\n",
    "\n",
    "\n",
    "\n",
    "Spoilers below!"
   ]
  },
  {
   "cell_type": "code",
   "execution_count": null,
   "metadata": {},
   "outputs": [],
   "source": [
    "values = [ 4,12,34,2,8]\n",
    "\n",
    "#set single digit numbers to 0, set double digit numbers to *2\n",
    "\n",
    "for i in range (0,len(values)):\n",
    "    if values[i] >10:\n",
    "        values[i]=values[i]*2\n",
    "    else:\n",
    "        values[i]=0\n",
    "        \n",
    "print(values)"
   ]
  },
  {
   "cell_type": "code",
   "execution_count": null,
   "metadata": {},
   "outputs": [],
   "source": [
    "##here's another solution \n",
    "\n",
    "\n",
    "values = [ 4,12,34,2,8]\n",
    "\n",
    "#set single digit numbers to 0, set double digit numbers to *2\n",
    "\n",
    "for i in range (0,len(values)):\n",
    "    if len(str(values[i]))==2:\n",
    "        values[i]=values[i]*2\n",
    "    else:\n",
    "        values[i]=0\n",
    "        \n",
    "print(values)"
   ]
  },
  {
   "cell_type": "code",
   "execution_count": null,
   "metadata": {},
   "outputs": [],
   "source": [
    "print(dir(list))\n",
    "\n",
    "#here's a cool new method for you!\n",
    "\n",
    "help(list.append)"
   ]
  },
  {
   "cell_type": "code",
   "execution_count": 2,
   "metadata": {},
   "outputs": [
    {
     "name": "stdout",
     "output_type": "stream",
     "text": [
      "[12, 4, 30, 9005]\n"
     ]
    }
   ],
   "source": [
    "values =[12,4,30]\n",
    "values.append(9005)\n",
    "print(values)"
   ]
  },
  {
   "cell_type": "code",
   "execution_count": null,
   "metadata": {},
   "outputs": [],
   "source": [
    "#take a break !\n",
    "\n",
    "#We will pick up iteration in the next notebook, Welcome to Python Part 2"
   ]
  }
 ],
 "metadata": {
  "kernelspec": {
   "display_name": "Python 3",
   "language": "python",
   "name": "python3"
  },
  "language_info": {
   "codemirror_mode": {
    "name": "ipython",
    "version": 3
   },
   "file_extension": ".py",
   "mimetype": "text/x-python",
   "name": "python",
   "nbconvert_exporter": "python",
   "pygments_lexer": "ipython3",
   "version": "3.8.2"
  }
 },
 "nbformat": 4,
 "nbformat_minor": 4
}
