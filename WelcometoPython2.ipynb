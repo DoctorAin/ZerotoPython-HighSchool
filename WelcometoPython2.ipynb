{
 "cells": [
  {
   "cell_type": "markdown",
   "metadata": {},
   "source": [
    "Welcome back to learning python\n",
    "\n",
    "This notebook picks up where the Welcome to Python notebook leaves off\n",
    "\n",
    "We ended on iterating over a range and incorporating slicing \n",
    "\n",
    "Let's pick back on iteration!"
   ]
  },
  {
   "cell_type": "code",
   "execution_count": 1,
   "metadata": {},
   "outputs": [
    {
     "name": "stdout",
     "output_type": "stream",
     "text": [
      "[144, 16, 900]\n"
     ]
    }
   ],
   "source": [
    "#iterating over a range means specifying the range i.e 1 through 100\n",
    "\n",
    "#remember, instead of iterating over a range, you can use your object to guide iteration\n",
    "\n",
    "##in this example rather than iterating over a range you are iterating over a list\n",
    "\n",
    "values =[12,4,30]\n",
    "new_list=[]\n",
    "\n",
    "for val in values:\n",
    "    new_list.append(val**2)\n",
    "    \n",
    "print(new_list)"
   ]
  },
  {
   "cell_type": "markdown",
   "metadata": {},
   "source": [
    "You can start to nest if else logic into your for loops\n",
    "\n",
    "Can you write a little program that multiples the double digit numbers in a list by 2?\n",
    "\n",
    "values = [4,12,34,2,8]\n"
   ]
  },
  {
   "cell_type": "code",
   "execution_count": 2,
   "metadata": {},
   "outputs": [
    {
     "name": "stdout",
     "output_type": "stream",
     "text": [
      "[0, 144, 1156, 0, 0]\n"
     ]
    }
   ],
   "source": [
    "#a solution\n",
    "\n",
    "\n",
    "values = [4,12,34,2,8]\n",
    "new_list =[]\n",
    "\n",
    "for var in values:\n",
    "    if var >10:\n",
    "        new_list.append(var**2)\n",
    "    else:\n",
    "        new_list.append(0)\n",
    "print(new_list)"
   ]
  },
  {
   "cell_type": "code",
   "execution_count": null,
   "metadata": {},
   "outputs": [],
   "source": [
    "#pro tip\n",
    "\n",
    "#only use i for indexes and var name otherwise\n",
    "\n",
    "#this can help you keep straight what you are iterating over "
   ]
  },
  {
   "cell_type": "markdown",
   "metadata": {},
   "source": [
    "An important thing to understand about strings and lists is that lists are mutable and strings are immutable\n",
    "\n",
    "\n",
    "This means you can mess with lists iterative, but not strings"
   ]
  },
  {
   "cell_type": "code",
   "execution_count": 3,
   "metadata": {},
   "outputs": [
    {
     "name": "stdout",
     "output_type": "stream",
     "text": [
      "[['APPLE'], 'cat', 'snowman']\n"
     ]
    }
   ],
   "source": [
    "#for example, this is chill\n",
    "\n",
    "some_list=['apple','cat','snowman']\n",
    "\n",
    "some_list[0]=['APPLE']\n",
    "\n",
    "print(some_list)"
   ]
  },
  {
   "cell_type": "code",
   "execution_count": 4,
   "metadata": {},
   "outputs": [
    {
     "ename": "TypeError",
     "evalue": "'str' object does not support item assignment",
     "output_type": "error",
     "traceback": [
      "\u001b[0;31m---------------------------------------------------------------------------\u001b[0m",
      "\u001b[0;31mTypeError\u001b[0m                                 Traceback (most recent call last)",
      "\u001b[0;32m<ipython-input-4-5eb7eaeee67d>\u001b[0m in \u001b[0;36m<module>\u001b[0;34m\u001b[0m\n\u001b[1;32m      3\u001b[0m \u001b[0msome_word\u001b[0m\u001b[0;34m=\u001b[0m\u001b[0;34m'epple'\u001b[0m\u001b[0;34m\u001b[0m\u001b[0;34m\u001b[0m\u001b[0m\n\u001b[1;32m      4\u001b[0m \u001b[0;34m\u001b[0m\u001b[0m\n\u001b[0;32m----> 5\u001b[0;31m \u001b[0msome_word\u001b[0m\u001b[0;34m[\u001b[0m\u001b[0;36m0\u001b[0m\u001b[0;34m]\u001b[0m\u001b[0;34m=\u001b[0m\u001b[0;34m'A'\u001b[0m\u001b[0;34m\u001b[0m\u001b[0;34m\u001b[0m\u001b[0m\n\u001b[0m\u001b[1;32m      6\u001b[0m \u001b[0;34m\u001b[0m\u001b[0m\n\u001b[1;32m      7\u001b[0m \u001b[0mprint\u001b[0m\u001b[0;34m(\u001b[0m\u001b[0msome_word\u001b[0m\u001b[0;34m)\u001b[0m\u001b[0;34m\u001b[0m\u001b[0;34m\u001b[0m\u001b[0m\n",
      "\u001b[0;31mTypeError\u001b[0m: 'str' object does not support item assignment"
     ]
    }
   ],
   "source": [
    "#however, this is not chill!\n",
    "\n",
    "some_word='epple'\n",
    "\n",
    "some_word[0]='A' \n",
    "\n",
    "print(some_word)\n",
    "\n",
    "\n",
    "##this wont work!! its immutable because its a string"
   ]
  },
  {
   "cell_type": "markdown",
   "metadata": {},
   "source": [
    "SIRENS HORNS FANFARE\n",
    "\n",
    "\n",
    "Let's meet a new data type\n",
    "\n",
    "\n",
    "The tuple!\n",
    "\n",
    "\n",
    "The tuple is like a list, but it is immutable!"
   ]
  },
  {
   "cell_type": "code",
   "execution_count": 2,
   "metadata": {},
   "outputs": [
    {
     "name": "stdout",
     "output_type": "stream",
     "text": [
      "2\n",
      "7\n",
      "8\n",
      "47\n",
      "2\n"
     ]
    }
   ],
   "source": [
    "#tuple uses different brackets than list! () vs [] \n",
    "\n",
    "values=(2,7,8,47,2)\n",
    "#values[0]\n",
    "\n",
    "for val in values:\n",
    "    print(val)"
   ]
  },
  {
   "cell_type": "code",
   "execution_count": 3,
   "metadata": {},
   "outputs": [
    {
     "name": "stdout",
     "output_type": "stream",
     "text": [
      "['__add__', '__class__', '__contains__', '__delattr__', '__dir__', '__doc__', '__eq__', '__format__', '__ge__', '__getattribute__', '__getitem__', '__getnewargs__', '__gt__', '__hash__', '__init__', '__init_subclass__', '__iter__', '__le__', '__len__', '__lt__', '__mul__', '__ne__', '__new__', '__reduce__', '__reduce_ex__', '__repr__', '__rmul__', '__setattr__', '__sizeof__', '__str__', '__subclasshook__', 'count', 'index']\n"
     ]
    }
   ],
   "source": [
    "#there are only 2 methods for tuples \n",
    "\n",
    "print(dir(tuple)) #only 2 methods"
   ]
  },
  {
   "cell_type": "code",
   "execution_count": null,
   "metadata": {},
   "outputs": [],
   "source": [
    "#tuples might seem lame now, \n",
    "#but they will make more sense later in the context of dictionaries\n",
    "\n",
    "\n",
    "#for now think of them as the immutable version of list\n"
   ]
  },
  {
   "cell_type": "markdown",
   "metadata": {},
   "source": [
    "Let's do an exercise!\n",
    "\n",
    "Can you write a program that converts text into pig latin?\n",
    "\n",
    "Pig latin has two rules\n",
    "\n",
    "\n",
    "two rules: \n",
    " If a word begins with a vowel, \n",
    " append \"yay\" to the end of the word. \n",
    " If a word begins with a consonant, \n",
    " remove all the consonants from the beginning \n",
    " up to the first vowel and append them to the end of the word. \n",
    " Finally, append \"ay\" to the end of the word.\n",
    "    \n",
    "Examples:    \n",
    "dog => ogday\n",
    "python => onpythay\n",
    "scratch => atchscray\n",
    "is => isyay\n",
    "apple => appleyay\n",
    "\n",
    "\n",
    "\n",
    "\n",
    "\n",
    "\n",
    "Spoilers below "
   ]
  },
  {
   "cell_type": "code",
   "execution_count": 6,
   "metadata": {},
   "outputs": [],
   "source": [
    "#hint, start with something like this:\n",
    "vowels=['a','e','i','o','u']\n",
    "\n",
    "\n"
   ]
  },
  {
   "cell_type": "code",
   "execution_count": 1,
   "metadata": {},
   "outputs": [
    {
     "name": "stdout",
     "output_type": "stream",
     "text": [
      "scr\n",
      "atchesscray\n"
     ]
    }
   ],
   "source": [
    "word='scratches'\n",
    "vowels=['a','e','i','o','u']\n",
    "for i in range(0, len(word)):\n",
    "    if word[0] in vowels:\n",
    "        pig=word+'yay'\n",
    "        print(pig)\n",
    "        break #leaves loop\n",
    "    elif word[i] in vowels:\n",
    "        newend=word[0:i:1]\n",
    "        print(newend)\n",
    "        newbeg =word[len(newend)::]\n",
    "        pig= newbeg+newend+'ay'\n",
    "        print(pig)\n",
    "        break #leaves loop\n"
   ]
  },
  {
   "cell_type": "code",
   "execution_count": 4,
   "metadata": {},
   "outputs": [
    {
     "name": "stdout",
     "output_type": "stream",
     "text": [
      "atchesscray\n"
     ]
    }
   ],
   "source": [
    "# a solution\n",
    "word='scratches'\n",
    "#word='apple'\n",
    "vowels=['a','e','i','o','u']\n",
    "\n",
    "for i in range(0, len(word)):\n",
    "    if word[0] in vowels:\n",
    "        pig=word+'yay'\n",
    "        print(pig)\n",
    "        break #leaves loop\n",
    "    elif word[i] in vowels:\n",
    "        newend=word[0:i:1]\n",
    "       # print(newend)\n",
    "        newbeg =word[len(newend)::]\n",
    "        pig= newbeg+newend+'ay'\n",
    "        print(pig)\n",
    "        break #leaves loop\n",
    "    else:\n",
    "        pass\n",
    "             \n"
   ]
  },
  {
   "cell_type": "code",
   "execution_count": 16,
   "metadata": {},
   "outputs": [
    {
     "name": "stdout",
     "output_type": "stream",
     "text": [
      "1\n",
      "ayyay\n"
     ]
    }
   ],
   "source": [
    "#another solution\n",
    "word = \"yay\"\n",
    "x = 0\n",
    "vowels = (\"a\",\"e\",\"i\",\"o\",\"u\")\n",
    "for i in range(0,len(word)):\n",
    "    #print (i, word[i])\n",
    "    if word[i] in vowels:\n",
    "        x = x+i\n",
    "        break\n",
    "consonantStart = word[0:x:1]\n",
    "restOfTheWord = word[x:len(word):1]\n",
    "if word[0] in vowels:\n",
    "    pigLatin = restOfTheWord + consonantStart + \"yay\"\n",
    "else:\n",
    "    pigLatin = restOfTheWord + consonantStart + \"ay\"\n",
    "print(pigLatin)"
   ]
  },
  {
   "cell_type": "markdown",
   "metadata": {},
   "source": [
    "\n",
    "~A NEW CONCEPT ~\n",
    "\n",
    "LIST COMPREHENSIONS\n",
    "\n",
    "Some people like to use list comprehensions to make their code shorter\n",
    "\n",
    "List comprehensions let you collapse a whole for loop into 1 line!\n",
    "\n",
    "It can save space and typing and formatting!!\n",
    "\n",
    "\n",
    "\n",
    "you write the operation you want to perform on the different items, then write for what data\n",
    "\n",
    "this is all on one line in []\n",
    "\n",
    "ex [ something you want to happen for i in values]"
   ]
  },
  {
   "cell_type": "code",
   "execution_count": 12,
   "metadata": {},
   "outputs": [
    {
     "name": "stdout",
     "output_type": "stream",
     "text": [
      "[1, 4, 9]\n"
     ]
    }
   ],
   "source": [
    "#here's an example of a for loop we've seen before\n",
    "\n",
    "values=[1,2,3]\n",
    "\n",
    "newlist=[]\n",
    "\n",
    "for i in values:\n",
    "    newlist.append(i**2)\n",
    "print(newlist)\n"
   ]
  },
  {
   "cell_type": "code",
   "execution_count": 9,
   "metadata": {},
   "outputs": [
    {
     "name": "stdout",
     "output_type": "stream",
     "text": [
      "[1, 4, 9]\n"
     ]
    }
   ],
   "source": [
    "#here is the exact same thing, but in a list comprehension\n",
    "values=[1,2,3]\n",
    "newlist= [i**2 for i in values]\n",
    "print(newlist)\n"
   ]
  },
  {
   "cell_type": "markdown",
   "metadata": {},
   "source": [
    "Mini exercise!!\n",
    "\n",
    "Can you write a list comprehension to cast a list of strings into num of your choice?\n",
    "\n",
    "\n",
    "here's a list for you to change \n",
    "data=['1','2','36','600394']\n",
    "\n",
    "\n",
    "*\n",
    "*\n",
    "*\n",
    "spoilers below\n",
    "*\n",
    "*\n",
    "*\n",
    "no really try without looking "
   ]
  },
  {
   "cell_type": "code",
   "execution_count": 13,
   "metadata": {},
   "outputs": [
    {
     "name": "stdout",
     "output_type": "stream",
     "text": [
      "[1, 2, 36, 600394]\n"
     ]
    }
   ],
   "source": [
    "data=['1','2','36','600394']\n",
    "\n",
    "data=[int(i) for i in data]\n",
    "print(data)"
   ]
  },
  {
   "cell_type": "markdown",
   "metadata": {},
   "source": [
    "you don't have to use list comprehensions but they can be fun if you want to save time and typing!\n",
    "\n",
    "many of the exercises we've done so far can be rewritten"
   ]
  },
  {
   "cell_type": "raw",
   "metadata": {},
   "source": [
    "~~~~Writing custom functions~~~~~"
   ]
  },
  {
   "cell_type": "markdown",
   "metadata": {},
   "source": [
    "Speaking of cool new ways to write code, you can and should start writing your own functions\n",
    "\n",
    "Remember that a function is a little script that someone wrote for you that is stored in the files you downloaded when you downloaded python\n",
    "\n",
    "These are tasks that everyone does all of the time, so these functions come preloaded for you\n",
    "\n",
    "Some functions we have used are print(), help(), input(), int(), float(), str()\n",
    "\n",
    "\n",
    "When you start doing your own coding, you will find yourself writing the same parts of code over and over again. \n",
    "\n",
    "If you find yourself in this situation, that means you should make that bit of a code a function so you can call it with one word whenever you want!\n",
    "\n",
    "\n",
    "\n"
   ]
  },
  {
   "cell_type": "code",
   "execution_count": null,
   "metadata": {},
   "outputs": [],
   "source": [
    "#how to write a custom function\n",
    "\n",
    "#you start by defining the function name and the inputs it will take \n",
    "\n",
    "# general format \n",
    "# def functionname (input, input):\n",
    "    #return stuff you want to do in the function\n"
   ]
  },
  {
   "cell_type": "code",
   "execution_count": null,
   "metadata": {},
   "outputs": [],
   "source": [
    "#many of the exercises we have done so far can be rewritten as custom functions"
   ]
  },
  {
   "cell_type": "markdown",
   "metadata": {},
   "source": [
    "lets write a custom function to add two numbers\n",
    "\n",
    "try to follow the format \n",
    "\n",
    "def functionname( input, input):\n",
    "    return thingyouwantfunctiontodo\n",
    "    \n",
    "    \n",
    "    \n",
    "    \n",
    "    \n",
    "*\n",
    "*\n",
    "*\n",
    "*\n",
    "*\n",
    "solution below\n",
    "*\n",
    "*\n",
    "*\n",
    "*"
   ]
  },
  {
   "cell_type": "code",
   "execution_count": 16,
   "metadata": {},
   "outputs": [],
   "source": [
    "#here is a solution\n",
    "def add (a,b):\n",
    "    total=a+b\n",
    "    print(total)\n",
    "    return(total)\n"
   ]
  },
  {
   "cell_type": "code",
   "execution_count": 15,
   "metadata": {},
   "outputs": [
    {
     "name": "stdout",
     "output_type": "stream",
     "text": [
      "11\n",
      "11\n"
     ]
    }
   ],
   "source": [
    "#now we have the function add that we can use whenever we want\n",
    "#we just have to call it by name\n",
    "\n",
    "x=add(3,8)\n",
    "\n",
    "print(x)"
   ]
  },
  {
   "cell_type": "markdown",
   "metadata": {},
   "source": [
    "~global versus local variables ~\n",
    "\n",
    "\n",
    "protip:\n",
    "    variables can be global or local\n",
    "    global variables are available everywhere\n",
    "    local variables are only available in a certain subset of your code\n",
    "    \n",
    " \n",
    " \n",
    "In functions, the variables you put in the function are local\n",
    "\n",
    "If you create a variable inside of your function, it only exists in that function - it isn't available if you try to call it elsewhere\n",
    " \n",
    "    "
   ]
  },
  {
   "cell_type": "markdown",
   "metadata": {},
   "source": [
    "More practice with functions\n",
    "\n",
    "Can you write a function that squares a number?\n",
    "\n",
    "\n",
    "\n",
    "*\n",
    "*\n",
    "*\n",
    "*\n",
    "*\n",
    "solution below\n",
    "*\n",
    "*\n",
    "*\n",
    "*\n",
    "*"
   ]
  },
  {
   "cell_type": "code",
   "execution_count": 17,
   "metadata": {},
   "outputs": [],
   "source": [
    "def squarer (a):\n",
    "    return a**2"
   ]
  },
  {
   "cell_type": "code",
   "execution_count": 18,
   "metadata": {},
   "outputs": [
    {
     "name": "stdout",
     "output_type": "stream",
     "text": [
      "16\n"
     ]
    }
   ],
   "source": [
    "x=squarer(4)\n",
    "print(x)"
   ]
  },
  {
   "cell_type": "markdown",
   "metadata": {},
   "source": [
    "Can you write a function that adds up all of the items in a list?\n",
    "\n",
    "*\n",
    "*\n",
    "*\n",
    "*\n",
    "*\n",
    "solution below\n",
    "*\n",
    "*\n",
    "*\n",
    "*\n",
    "*"
   ]
  },
  {
   "cell_type": "code",
   "execution_count": 19,
   "metadata": {},
   "outputs": [],
   "source": [
    "list=[1,2,3,4,5,6]\n",
    "\n",
    "def adder (a):\n",
    "    sum=0\n",
    "    for i in a:\n",
    "        sum+=i\n",
    "    return sum"
   ]
  },
  {
   "cell_type": "code",
   "execution_count": 21,
   "metadata": {},
   "outputs": [
    {
     "name": "stdout",
     "output_type": "stream",
     "text": [
      "21\n"
     ]
    }
   ],
   "source": [
    "x= adder(list)\n",
    "print(x)"
   ]
  },
  {
   "cell_type": "markdown",
   "metadata": {},
   "source": [
    "Can you make a function that determines is a character is a vowel\n",
    "\n",
    "\n",
    "*\n",
    "*\n",
    "*\n",
    "*\n",
    "*\n",
    "solution below\n",
    "*\n",
    "*\n",
    "*\n",
    "*\n",
    "*"
   ]
  },
  {
   "cell_type": "code",
   "execution_count": 24,
   "metadata": {},
   "outputs": [],
   "source": [
    "def voweler(char):\n",
    "    vowels = [ 'a', 'e', 'i', 'o', 'u']\n",
    "    if char in vowels:\n",
    "        return True \n",
    "    else:\n",
    "        return False"
   ]
  },
  {
   "cell_type": "code",
   "execution_count": 25,
   "metadata": {},
   "outputs": [
    {
     "name": "stdout",
     "output_type": "stream",
     "text": [
      "False\n"
     ]
    }
   ],
   "source": [
    "x=voweler('y')\n",
    "print(x)"
   ]
  },
  {
   "cell_type": "markdown",
   "metadata": {},
   "source": [
    "Can you make a function that converts c to f temperature\n",
    "\n",
    "*\n",
    "*\n",
    "*\n",
    "*\n",
    "*\n",
    "solution below\n",
    "*\n",
    "*\n",
    "*\n",
    "*\n",
    "*"
   ]
  },
  {
   "cell_type": "code",
   "execution_count": 26,
   "metadata": {},
   "outputs": [],
   "source": [
    "def c_converter (temp):\n",
    "    f=temp*(9/5)+32\n",
    "    return f"
   ]
  },
  {
   "cell_type": "code",
   "execution_count": 27,
   "metadata": {},
   "outputs": [
    {
     "name": "stdout",
     "output_type": "stream",
     "text": [
      "46.4\n"
     ]
    }
   ],
   "source": [
    "x=c_converter(8)\n",
    "print(x)"
   ]
  },
  {
   "cell_type": "markdown",
   "metadata": {},
   "source": [
    "can you write a function that counts how many of something is in a list?\n",
    "\n",
    "\n",
    "\n",
    "\n",
    "*\n",
    "*\n",
    "*\n",
    "*\n",
    "*\n",
    "solution below\n",
    "*\n",
    "*\n",
    "*\n",
    "*\n",
    "*"
   ]
  },
  {
   "cell_type": "code",
   "execution_count": 32,
   "metadata": {},
   "outputs": [],
   "source": [
    "def counter(list):\n",
    "    count=0\n",
    "    for i in list:\n",
    "        if i == item:\n",
    "            count+=1\n",
    "    return count"
   ]
  },
  {
   "cell_type": "code",
   "execution_count": 33,
   "metadata": {},
   "outputs": [
    {
     "name": "stdout",
     "output_type": "stream",
     "text": [
      "3\n"
     ]
    }
   ],
   "source": [
    "list=[1,2,3,4,2, 2]\n",
    "item=2\n",
    "x=counter(list)\n",
    "print(x)"
   ]
  },
  {
   "cell_type": "markdown",
   "metadata": {},
   "source": [
    "Can you write a function that converts a word into pig latin?\n",
    "\n",
    "can you write a function that counts how many of something is in a list?\n",
    "\n",
    "Pig latin has two rules: If a word begins with a vowel, append \"yay\" to the end of the word. If a word begins with a consonant, remove all the consonants from the beginning up to the first vowel and append them to the end of the word. Finally, append \"ay\" to the end of the word.\n",
    "\n",
    "Examples:\n",
    "dog => ogday python => onpythay scratch => atchscray is => isyay apple => appleyay\n",
    "\n",
    "\n",
    "*\n",
    "*\n",
    "*\n",
    "*\n",
    "*\n",
    "solution below\n",
    "*\n",
    "*\n",
    "*\n",
    "*\n",
    "*"
   ]
  },
  {
   "cell_type": "code",
   "execution_count": 1,
   "metadata": {},
   "outputs": [],
   "source": [
    "# a solution\n",
    "\n",
    "def piggie (word):\n",
    "    vowels=('a','e','i','o''u')\n",
    "    for i in range(0, len(word)):\n",
    "        if word[0] in vowels:\n",
    "            pig=word+'yay'\n",
    "           # print(pig)\n",
    "            break #leaves loop\n",
    "        elif word[i] in vowels:\n",
    "            loc=i\n",
    "            newend=word[0:i:1]\n",
    "            newbeg =word[len(newend)::] \n",
    "            pig= newbeg+newend+'ay'\n",
    "           # print(pig)\n",
    "            break #leaves loop\n",
    "        else:\n",
    "            pass\n",
    "    return pig"
   ]
  },
  {
   "cell_type": "code",
   "execution_count": 2,
   "metadata": {},
   "outputs": [
    {
     "name": "stdout",
     "output_type": "stream",
     "text": [
      "igpay\n"
     ]
    }
   ],
   "source": [
    "word='pig'\n",
    "x=piggie(word)\n",
    "print(x)"
   ]
  },
  {
   "cell_type": "markdown",
   "metadata": {},
   "source": [
    "Did you know that functions can have multiple inputs?\n",
    "\n",
    "That's right, if you look at the help for a function it will tell you what inputs it takes\n",
    "and how to separate them"
   ]
  },
  {
   "cell_type": "code",
   "execution_count": 4,
   "metadata": {},
   "outputs": [
    {
     "name": "stdout",
     "output_type": "stream",
     "text": [
      "Help on built-in function print in module builtins:\n",
      "\n",
      "print(...)\n",
      "    print(value, ..., sep=' ', end='\\n', file=sys.stdout, flush=False)\n",
      "    \n",
      "    Prints the values to a stream, or to sys.stdout by default.\n",
      "    Optional keyword arguments:\n",
      "    file:  a file-like object (stream); defaults to the current sys.stdout.\n",
      "    sep:   string inserted between values, default a space.\n",
      "    end:   string appended after the last value, default a newline.\n",
      "    flush: whether to forcibly flush the stream.\n",
      "\n"
     ]
    }
   ],
   "source": [
    "help(print) # it tells us in the printout how to format multiple prints"
   ]
  },
  {
   "cell_type": "code",
   "execution_count": 3,
   "metadata": {},
   "outputs": [
    {
     "name": "stdout",
     "output_type": "stream",
     "text": [
      "hello whatsup  there\n"
     ]
    }
   ],
   "source": [
    "print('hello', 'whatsup ', 'there') #it works, amazing"
   ]
  },
  {
   "cell_type": "markdown",
   "metadata": {},
   "source": [
    "Can you write a custom function that counts up how many of an item are in a list?\n",
    "\n",
    "In this case, you'll need multiple inputs - the values and the item you want to count\n",
    "\n"
   ]
  },
  {
   "cell_type": "code",
   "execution_count": null,
   "metadata": {},
   "outputs": [],
   "source": [
    "# a solution\n",
    "\n",
    "def counter(values, item):\n",
    "    count=0\n",
    "    for i in values:\n",
    "        if i == item:\n",
    "            count+=1\n",
    "    return count\n",
    "\n",
    "values=[2,2,4,5,2]\n",
    "v=counter(values, 2)\n",
    "print(v)"
   ]
  },
  {
   "cell_type": "code",
   "execution_count": 5,
   "metadata": {},
   "outputs": [
    {
     "name": "stdout",
     "output_type": "stream",
     "text": [
      "Help on built-in function print in module builtins:\n",
      "\n",
      "print(...)\n",
      "    print(value, ..., sep=' ', end='\\n', file=sys.stdout, flush=False)\n",
      "    \n",
      "    Prints the values to a stream, or to sys.stdout by default.\n",
      "    Optional keyword arguments:\n",
      "    file:  a file-like object (stream); defaults to the current sys.stdout.\n",
      "    sep:   string inserted between values, default a space.\n",
      "    end:   string appended after the last value, default a newline.\n",
      "    flush: whether to forcibly flush the stream.\n",
      "\n"
     ]
    }
   ],
   "source": [
    "help(print) #it looks like you can change the printout by putting something in the sep='' field"
   ]
  },
  {
   "cell_type": "code",
   "execution_count": 6,
   "metadata": {},
   "outputs": [
    {
     "name": "stdout",
     "output_type": "stream",
     "text": [
      "hello...whatsup ...there\n"
     ]
    }
   ],
   "source": [
    "print('hello', 'whatsup ', 'there', sep='...') #this changes the printout and what separates it"
   ]
  },
  {
   "cell_type": "markdown",
   "metadata": {},
   "source": [
    "When you write your own functions, you will want to write your own doc strings to go with them\n",
    "\n",
    "That way if you need help remembering what inputs it takes, the help function will tell you\n",
    "\n",
    "Docstrings go in triple quotes inside of your function like this  '''message'''"
   ]
  },
  {
   "cell_type": "code",
   "execution_count": 9,
   "metadata": {},
   "outputs": [
    {
     "name": "stdout",
     "output_type": "stream",
     "text": [
      "3\n"
     ]
    }
   ],
   "source": [
    "#example\n",
    "\n",
    "def counter(values, item):\n",
    "    '''I am the counter, feed me a list of items and the item you want counted, fool''' #docstring, fool\n",
    "    count=0\n",
    "    for i in values:\n",
    "        if i == item:\n",
    "            count+=1\n",
    "    return count\n",
    "\n",
    "values=[2,2,4,5,2]\n",
    "v=counter(values, 2)\n",
    "print(v)"
   ]
  },
  {
   "cell_type": "code",
   "execution_count": 10,
   "metadata": {},
   "outputs": [
    {
     "name": "stdout",
     "output_type": "stream",
     "text": [
      "Help on function counter in module __main__:\n",
      "\n",
      "counter(values, item)\n",
      "    I am the counter, feed me a list of items and the item you want counted, fool\n",
      "\n"
     ]
    }
   ],
   "source": [
    "help(counter) # it will show us the message and remind us what inputs we need"
   ]
  },
  {
   "cell_type": "markdown",
   "metadata": {},
   "source": [
    "Sirens, horns, fanfare\n",
    "\n",
    "\n",
    "\n",
    "Let's learn a new data type\n"
   ]
  },
  {
   "cell_type": "markdown",
   "metadata": {},
   "source": [
    "~~~~~Dictionaries~~~~~"
   ]
  },
  {
   "cell_type": "markdown",
   "metadata": {},
   "source": [
    "Dictionaries pair a key and a value\n",
    "\n",
    "Dictionaries use curly brackets {}\n",
    "\n",
    "The syntax looks like this:\n",
    "\n",
    "dict = {\n",
    "    'key':value,\n",
    "    'key1':value2\n",
    "}"
   ]
  },
  {
   "cell_type": "code",
   "execution_count": null,
   "metadata": {},
   "outputs": [],
   "source": [
    "#this could work well for data where you need certain pieces of information to be associated!"
   ]
  },
  {
   "cell_type": "code",
   "execution_count": 11,
   "metadata": {},
   "outputs": [],
   "source": [
    "#like a phonebook\n",
    "\n",
    "phonebook = {} #an empty dictionary now exists"
   ]
  },
  {
   "cell_type": "code",
   "execution_count": 12,
   "metadata": {},
   "outputs": [],
   "source": [
    "#lets add something a phone number for a person\n",
    "phonebook['Jenny']=8675309"
   ]
  },
  {
   "cell_type": "code",
   "execution_count": 13,
   "metadata": {},
   "outputs": [
    {
     "name": "stdout",
     "output_type": "stream",
     "text": [
      "{'Jenny': 8675309}\n"
     ]
    }
   ],
   "source": [
    "print(phonebook)"
   ]
  },
  {
   "cell_type": "code",
   "execution_count": null,
   "metadata": {},
   "outputs": [],
   "source": [
    "#instead of indicating the index position numerically, we created one for jenny, and stored the associated number"
   ]
  },
  {
   "cell_type": "code",
   "execution_count": 14,
   "metadata": {},
   "outputs": [],
   "source": [
    "#this is the traditional syntax \n",
    "\n",
    "phonebook={\n",
    "    'Jenny':8675309,\n",
    "    'John':9786311\n",
    "}"
   ]
  },
  {
   "cell_type": "code",
   "execution_count": 15,
   "metadata": {},
   "outputs": [
    {
     "name": "stdout",
     "output_type": "stream",
     "text": [
      "{'Jenny': 8675309, 'John': 9786311}\n"
     ]
    }
   ],
   "source": [
    "print(phonebook)"
   ]
  },
  {
   "cell_type": "code",
   "execution_count": 16,
   "metadata": {},
   "outputs": [
    {
     "name": "stdout",
     "output_type": "stream",
     "text": [
      "{'John': 8675309, 'Mark': 4568765}\n"
     ]
    }
   ],
   "source": [
    "#this technically works too, shrug\n",
    "\n",
    "phonebook={'John':8675309, 'Mark':4568765}\n",
    "\n",
    "print(phonebook)"
   ]
  },
  {
   "cell_type": "markdown",
   "metadata": {},
   "source": [
    "Dictionaries have a lot of obvious applications, \n",
    "since we often want particular information to be indexable by another piece of information"
   ]
  },
  {
   "cell_type": "code",
   "execution_count": 17,
   "metadata": {},
   "outputs": [],
   "source": [
    "#let's make a french to english dictionary\n",
    "\n",
    "fe= {\n",
    "    'pomme':'apple',\n",
    "    'chat':'cat',\n",
    "    'bonhomme de neige':'snowman'\n",
    "}\n"
   ]
  },
  {
   "cell_type": "code",
   "execution_count": 18,
   "metadata": {},
   "outputs": [
    {
     "name": "stdout",
     "output_type": "stream",
     "text": [
      "{'pomme': 'apple', 'chat': 'cat', 'bonhomme de neige': 'snowman'}\n"
     ]
    }
   ],
   "source": [
    "print(fe)"
   ]
  },
  {
   "cell_type": "code",
   "execution_count": 19,
   "metadata": {},
   "outputs": [
    {
     "data": {
      "text/plain": [
       "'apple'"
      ]
     },
     "execution_count": 19,
     "metadata": {},
     "output_type": "execute_result"
    }
   ],
   "source": [
    "#what if we want to query a particular thing??\n",
    "\n",
    "#trying asking for it in the way you asked for index location previously\n",
    "\n",
    "fe['pomme']"
   ]
  },
  {
   "cell_type": "code",
   "execution_count": 20,
   "metadata": {},
   "outputs": [
    {
     "name": "stdout",
     "output_type": "stream",
     "text": [
      "apple\n"
     ]
    }
   ],
   "source": [
    "print(fe['pomme'])"
   ]
  },
  {
   "cell_type": "markdown",
   "metadata": {},
   "source": [
    "Cool so you can connect individual values\n",
    "\n",
    "But you can also essentially create columns of values"
   ]
  },
  {
   "cell_type": "code",
   "execution_count": 25,
   "metadata": {},
   "outputs": [
    {
     "name": "stdout",
     "output_type": "stream",
     "text": [
      "{'SAT_math': [500, 400, 200, 700, 300], 'SAT_verbal': [700, 800, 600, 200, 500]}\n",
      "[500, 400, 200, 700, 300]\n"
     ]
    }
   ],
   "source": [
    "df={\n",
    "    'SAT_math': [500,400,200,700,300],\n",
    "    'SAT_verbal':[700,800,600,200,500]\n",
    "}\n",
    "\n",
    "print(df)\n",
    "print(df['SAT_math'])"
   ]
  },
  {
   "cell_type": "code",
   "execution_count": 26,
   "metadata": {},
   "outputs": [
    {
     "name": "stdout",
     "output_type": "stream",
     "text": [
      "[700, 800, 600, 200, 500]\n"
     ]
    }
   ],
   "source": [
    "print(df['SAT_verbal'])"
   ]
  },
  {
   "cell_type": "markdown",
   "metadata": {},
   "source": [
    "Dictionaries become pretty cool pretty fast\n",
    "\n",
    "If I gave you a dictionary that pairs menu items and their cost\n",
    "\n",
    "Could you write me a function that takes items as inputs and calculates the total bill?"
   ]
  },
  {
   "cell_type": "code",
   "execution_count": 27,
   "metadata": {},
   "outputs": [],
   "source": [
    "menu ={\n",
    "    'hamburger':8.95,\n",
    "    'coke':1.00,\n",
    "    'fanta':1.00,\n",
    "    'veggieburger':10.95\n",
    "    \n",
    "}"
   ]
  },
  {
   "cell_type": "markdown",
   "metadata": {},
   "source": [
    "solution below\n",
    "\n",
    "Try first\n",
    "\n",
    "no really, give it a try"
   ]
  },
  {
   "cell_type": "markdown",
   "metadata": {},
   "source": [
    "If you are stuck, remember iteration over a list"
   ]
  },
  {
   "cell_type": "markdown",
   "metadata": {},
   "source": [
    "If you are really stuck, try to solve the problem first without\n",
    "making it a custom function"
   ]
  },
  {
   "cell_type": "code",
   "execution_count": 34,
   "metadata": {},
   "outputs": [
    {
     "name": "stdout",
     "output_type": "stream",
     "text": [
      "9.95\n"
     ]
    }
   ],
   "source": [
    "#some helpful examples if you are stuck\n",
    "\n",
    "x=menu['hamburger']+menu['coke'] #you can add up the cost of items by calling that item on the menu\n",
    "print(x)"
   ]
  },
  {
   "cell_type": "code",
   "execution_count": 33,
   "metadata": {},
   "outputs": [
    {
     "name": "stdout",
     "output_type": "stream",
     "text": [
      "21.9\n"
     ]
    }
   ],
   "source": [
    "#some helpful examples if you are stuck\n",
    "\n",
    "#first try to write a for loop that just totals up the cost of the menu\n",
    "\n",
    "total=0\n",
    "for i in menu:\n",
    "    total+=menu[i]\n",
    "print(total)"
   ]
  },
  {
   "cell_type": "code",
   "execution_count": null,
   "metadata": {},
   "outputs": [],
   "source": [
    "#still stuck? \n",
    "\n",
    "#what if i gave you a list of orders to iterate over\n",
    "\n",
    "orders=['coke','veggieburger']\n",
    "\n",
    "#can you combine with previous to solve exercise?"
   ]
  },
  {
   "cell_type": "code",
   "execution_count": 35,
   "metadata": {},
   "outputs": [
    {
     "name": "stdout",
     "output_type": "stream",
     "text": [
      "11.95\n"
     ]
    }
   ],
   "source": [
    "#kind of like this:\n",
    "\n",
    "orders=['coke','veggieburger']\n",
    "\n",
    "total= 0\n",
    "for i in orders:\n",
    "    total+=menu[i]\n",
    "print(total)"
   ]
  },
  {
   "cell_type": "markdown",
   "metadata": {},
   "source": [
    "Solution for exercise below"
   ]
  },
  {
   "cell_type": "markdown",
   "metadata": {},
   "source": [
    "Don't forget to write a docstring to tell us what inputs we need"
   ]
  },
  {
   "cell_type": "code",
   "execution_count": 28,
   "metadata": {},
   "outputs": [],
   "source": [
    "# a solution for the exercise \n",
    "\n",
    "def billcalc (orders, menu):\n",
    "    '''feed me list of items and menu dict, i give bill'''\n",
    "    total= 0\n",
    "    for i in orders:\n",
    "        total+=menu[i]\n",
    "    return total\n"
   ]
  },
  {
   "cell_type": "code",
   "execution_count": 29,
   "metadata": {},
   "outputs": [
    {
     "name": "stdout",
     "output_type": "stream",
     "text": [
      "14.95\n"
     ]
    }
   ],
   "source": [
    "orders =['fanta','fanta','fanta','fanta','veggieburger']\n",
    "menu ={\n",
    "    'hamburger':8.95,\n",
    "    'coke':1.00,\n",
    "    'fanta':1.00,\n",
    "    'veggieburger':10.95\n",
    "    \n",
    "}\n",
    "\n",
    "\n",
    "y=billcalc(orders,menu)\n",
    "print(y)"
   ]
  },
  {
   "cell_type": "code",
   "execution_count": 36,
   "metadata": {},
   "outputs": [
    {
     "name": "stdout",
     "output_type": "stream",
     "text": [
      "we dont serve kangaroo here\n"
     ]
    }
   ],
   "source": [
    "#you can check to see if an input is a key in the dictionary\n",
    "\n",
    "\n",
    "menu ={\n",
    "    'hamburger':8.95,\n",
    "    'coke':1.00,\n",
    "    'fanta':1.00,\n",
    "    'veggieburger':10.95\n",
    "}\n",
    "\n",
    "\n",
    "order='kangaroo'\n",
    "\n",
    "if order in menu:\n",
    "    print('its on the menu')\n",
    "else:\n",
    "    print('we dont serve', order, 'here')"
   ]
  },
  {
   "cell_type": "code",
   "execution_count": 37,
   "metadata": {},
   "outputs": [],
   "source": [
    "#let's make a a dictionary that maps people onto their favorite ice cream flavors\n",
    "people ={\n",
    "    'Hagrid':'chocolate',\n",
    "    \"Hermione\":'strawberry',\n",
    "    'Harry':'Vanilla',\n",
    "    'Ron':'strawberry'\n",
    "}"
   ]
  },
  {
   "cell_type": "code",
   "execution_count": 43,
   "metadata": {},
   "outputs": [],
   "source": [
    "#when you iterate over the keys in a dictionary, it might\n",
    "#help to use k to remind yourself those are the keys\n",
    "\n",
    "#ie for k in dict:\n"
   ]
  },
  {
   "cell_type": "code",
   "execution_count": 39,
   "metadata": {},
   "outputs": [
    {
     "data": {
      "text/plain": [
       "dict"
      ]
     },
     "execution_count": 39,
     "metadata": {},
     "output_type": "execute_result"
    }
   ],
   "source": [
    "type(people) #remember that function type? it will tell you what datatype this is as well"
   ]
  },
  {
   "cell_type": "code",
   "execution_count": 44,
   "metadata": {},
   "outputs": [
    {
     "data": {
      "text/plain": [
       "dict_keys(['Hagrid', 'Hermione', 'Harry', 'Ron'])"
      ]
     },
     "execution_count": 44,
     "metadata": {},
     "output_type": "execute_result"
    }
   ],
   "source": [
    "people.keys() #let's look at the keys in the dictionary"
   ]
  },
  {
   "cell_type": "code",
   "execution_count": 45,
   "metadata": {},
   "outputs": [
    {
     "name": "stdout",
     "output_type": "stream",
     "text": [
      "Hagrid\n",
      "Hermione\n",
      "Harry\n",
      "Ron\n"
     ]
    }
   ],
   "source": [
    "for k in people.keys():\n",
    "    print(k)"
   ]
  },
  {
   "cell_type": "code",
   "execution_count": 46,
   "metadata": {},
   "outputs": [
    {
     "name": "stdout",
     "output_type": "stream",
     "text": [
      "Hagrid chocolate\n",
      "Hermione strawberry\n",
      "Harry Vanilla\n",
      "Ron strawberry\n"
     ]
    }
   ],
   "source": [
    "for k in people.keys():\n",
    "    print(k, people[k]) #you get the key and the value"
   ]
  },
  {
   "cell_type": "code",
   "execution_count": 47,
   "metadata": {},
   "outputs": [
    {
     "name": "stdout",
     "output_type": "stream",
     "text": [
      "chocolate\n",
      "strawberry\n",
      "Vanilla\n",
      "strawberry\n"
     ]
    }
   ],
   "source": [
    "#you can print the values instead of the keys too!\n",
    "for v in people.values():\n",
    "    print(v)"
   ]
  },
  {
   "cell_type": "code",
   "execution_count": null,
   "metadata": {},
   "outputs": [],
   "source": [
    "#important point!\n",
    "\n",
    "#you can't do the reverse and look up the keys based on the values"
   ]
  },
  {
   "cell_type": "code",
   "execution_count": 48,
   "metadata": {},
   "outputs": [
    {
     "data": {
      "text/plain": [
       "dict_items([('Hagrid', 'chocolate'), ('Hermione', 'strawberry'), ('Harry', 'Vanilla'), ('Ron', 'strawberry')])"
      ]
     },
     "execution_count": 48,
     "metadata": {},
     "output_type": "execute_result"
    }
   ],
   "source": [
    "#let's investigate something\n",
    "people.items()\n"
   ]
  },
  {
   "cell_type": "code",
   "execution_count": null,
   "metadata": {},
   "outputs": [],
   "source": [
    "#that printed out a list of tuples!!\n",
    "\n",
    "#remember the tuple? We called it the immutable list.\n",
    "\n",
    "#dictionaries are made of tuples!!"
   ]
  },
  {
   "cell_type": "code",
   "execution_count": 65,
   "metadata": {},
   "outputs": [
    {
     "name": "stdout",
     "output_type": "stream",
     "text": [
      "Hagrid strawberry\n",
      "Harry strawberry\n",
      "Hermione strawberry\n",
      "Ron strawberry\n"
     ]
    }
   ],
   "source": [
    "people = {\n",
    "    \"Hagrid\":\"chocolate\",\n",
    "    \"Harry\":\"vanilla\",\n",
    "    \"Hermione\":\"strawberry\",\n",
    "    \"Ron\":\"strawberry\"\n",
    "}\n",
    "\n",
    "\n",
    "#when iterating it can really help to use informative names\n",
    "#that identify the keys and valvues \n",
    "#for i in dict would get really confusing really fast\n",
    "\n",
    "for person,icecream in people.items(): #person is keys and flavor is values\n",
    "    print(person, flavor)"
   ]
  },
  {
   "cell_type": "code",
   "execution_count": 52,
   "metadata": {},
   "outputs": [
    {
     "name": "stdout",
     "output_type": "stream",
     "text": [
      "('Hagrid', 'chocolate') Hagrid chocolate\n",
      "('Harry', 'vanilla') Harry vanilla\n",
      "('Hermione', 'strawberry') Hermione strawberry\n",
      "('Ron', 'strawberry') Ron strawberry\n"
     ]
    }
   ],
   "source": [
    "#compare that to this\n",
    "\n",
    "for i in people.items():\n",
    "     print(i,i[0],i[1]) #this is just too confusing"
   ]
  },
  {
   "cell_type": "markdown",
   "metadata": {},
   "source": [
    "Let's do an exercise\n",
    "\n",
    "Can you write a function that \n",
    "returns everyone who likes a certain flavor of ice cream?"
   ]
  },
  {
   "cell_type": "code",
   "execution_count": null,
   "metadata": {},
   "outputs": [],
   "source": [
    "#this function is like a reverse look up, you are trying to use the value to find the keys"
   ]
  },
  {
   "cell_type": "code",
   "execution_count": null,
   "metadata": {},
   "outputs": [],
   "source": [
    "#in our dictionary, people, the keys were person and the values were ice cream"
   ]
  },
  {
   "cell_type": "code",
   "execution_count": null,
   "metadata": {},
   "outputs": [],
   "source": [
    "#can you iterate over person and icecream to look for particular flavors?"
   ]
  },
  {
   "cell_type": "code",
   "execution_count": 77,
   "metadata": {},
   "outputs": [
    {
     "name": "stdout",
     "output_type": "stream",
     "text": [
      "Hermione\n",
      "Ron\n"
     ]
    }
   ],
   "source": [
    "#a solution!\n",
    "\n",
    "def likelick(flavor, people): #input a specific flavor/value and input your dictionary\n",
    "    '''I am the like licker, i find what people in the dict like your specified flavor'''\n",
    "    for person,icecream in people.items(): #iterate over \n",
    "        if icecream == flavor: #if the values match your input flavor\n",
    "            print(person) # then print the key\n",
    "            #in this circumstance you don't need to return anything, \n",
    "            #this print is kind of doing it for you\n",
    "           \n",
    "     \n",
    "        \n",
    "        \n",
    "\n",
    "likelick('strawberry',people)\n"
   ]
  },
  {
   "cell_type": "code",
   "execution_count": 76,
   "metadata": {},
   "outputs": [
    {
     "name": "stdout",
     "output_type": "stream",
     "text": [
      "Hermione\n",
      "Ron\n"
     ]
    }
   ],
   "source": [
    "#you might find it simpler to use k and v for keys and values to keep things straight\n",
    "\n",
    "\n",
    "#here's an example without the function to make it clear what's happening in the for loop\n",
    "\n",
    "\n",
    "d = {\n",
    "    \"Hagrid\":\"chocolate\",\n",
    "    \"Harry\":\"vanilla\",\n",
    "    \"Hermione\":\"strawberry\",\n",
    "    \"Ron\":\"strawberry\"\n",
    "}\n",
    "\n",
    "\n",
    "flavor='strawberry'\n",
    "for k,v in d.items():\n",
    "    #print(k,v)\n",
    "    if v == flavor:\n",
    "        print(k)"
   ]
  },
  {
   "cell_type": "code",
   "execution_count": 71,
   "metadata": {},
   "outputs": [
    {
     "data": {
      "text/plain": [
       "['Harry']"
      ]
     },
     "execution_count": 71,
     "metadata": {},
     "output_type": "execute_result"
    }
   ],
   "source": [
    "##as a function\n",
    "\n",
    "d = {\n",
    "    \"Hagrid\":\"chocolate\",\n",
    "    \"Harry\":\"vanilla\",\n",
    "    \"Hermione\":\"strawberry\",\n",
    "    \"Ron\":\"strawberry\"\n",
    "}\n",
    "\n",
    "def reverse_lookup(d, search_value):\n",
    "    matching_keys =[] #create an empty list\n",
    "    for k,v in d.items():\n",
    "    #print(k,v)\n",
    "        if v == search_value:\n",
    "            matching_keys.append(k) #use append method to add whatever comes up to your list \n",
    "\n",
    "    return matching_keys\n",
    "\n",
    "flavor='vanilla'\n",
    "reverse_lookup(d,flavor)"
   ]
  },
  {
   "cell_type": "markdown",
   "metadata": {},
   "source": [
    "heres something super common to do with dictionaries\n",
    "\n",
    "\n",
    "taking inventory!\n",
    "\n",
    "\n",
    "\n",
    "\n",
    "\n",
    "what if you want to count unique items?\n",
    "\n",
    "a dictionary is good for  this\n",
    "\n",
    "this is application beyond strings, \n",
    "it works for lists\n"
   ]
  },
  {
   "cell_type": "markdown",
   "metadata": {},
   "source": [
    "Let's do an exercise  \n",
    "\n",
    "can you use a for loop to populate a dictionary with the items in a string?\n",
    "\n",
    "can you do this with a list?"
   ]
  },
  {
   "cell_type": "code",
   "execution_count": 2,
   "metadata": {},
   "outputs": [
    {
     "name": "stdout",
     "output_type": "stream",
     "text": [
      "a\n",
      "p\n",
      "p\n",
      "l\n",
      "e\n",
      "{'a': 1, 'p': 2, 'l': 1, 'e': 1}\n"
     ]
    }
   ],
   "source": [
    "## a solution\n",
    "\n",
    "word='apple'\n",
    "\n",
    "d={\n",
    "    \n",
    "}\n",
    "\n",
    "for char in word:\n",
    "    print(char)\n",
    "    if char not in d:\n",
    "        d[char] =1\n",
    "    elif char in d:\n",
    "        d[char] +=1\n",
    "print(d)"
   ]
  },
  {
   "cell_type": "code",
   "execution_count": 3,
   "metadata": {},
   "outputs": [
    {
     "name": "stdout",
     "output_type": "stream",
     "text": [
      "snowman\n",
      "snowman\n",
      "cat\n",
      "apple\n",
      "cat\n",
      "cat\n",
      "{'snowman': 2, 'cat': 3, 'apple': 1}\n"
     ]
    }
   ],
   "source": [
    "word=['snowman','snowman','cat','apple','cat','cat']\n",
    "\n",
    "d={}\n",
    "\n",
    "for char in word:\n",
    "    print(char)\n",
    "    if char not in d:\n",
    "        d[char] =1\n",
    "    elif char in d:\n",
    "       # d[char]= d[char] +1\n",
    "        d[char] +=1\n",
    "print(d)"
   ]
  },
  {
   "cell_type": "markdown",
   "metadata": {},
   "source": [
    "These count the items!!"
   ]
  },
  {
   "cell_type": "markdown",
   "metadata": {},
   "source": [
    "Cool cool let's do an exercise\n",
    "\n",
    "Can you use a dictionary to tell if two strings are anagrams\n",
    "\n"
   ]
  },
  {
   "cell_type": "code",
   "execution_count": 7,
   "metadata": {},
   "outputs": [
    {
     "name": "stdout",
     "output_type": "stream",
     "text": [
      "BANANAGRAMS\n"
     ]
    }
   ],
   "source": [
    "word1 = 'elif'\n",
    "word2= 'life'\n",
    "\n",
    "d1={}\n",
    "d2={}\n",
    "\n",
    "for char in word1:\n",
    "    if char not in d1:\n",
    "        d1[i]=1\n",
    "    elif char in d1:\n",
    "        d1[i]+=1\n",
    "for char in word2:\n",
    "    if char not in d2:\n",
    "        d2[i]=1\n",
    "    elif char in d2:\n",
    "        d2[i]+=1\n",
    "        \n",
    "if d1==d2:\n",
    "    True\n",
    "    print('BANANAGRAMS')\n",
    "    \n",
    "else:\n",
    "    False\n",
    "    print('nononono')"
   ]
  },
  {
   "cell_type": "markdown",
   "metadata": {},
   "source": [
    "Cool\n",
    "\n",
    "Now rewrite that as a custom function"
   ]
  },
  {
   "cell_type": "code",
   "execution_count": 13,
   "metadata": {},
   "outputs": [],
   "source": [
    "#a solution\n",
    "\n",
    "def grammer(word1,word2):\n",
    "    '''I am the anagram detector, feed me words for boolean eval of bananagram'''\n",
    "    d1={}\n",
    "    d2={}\n",
    "    for char in word1:\n",
    "        if char not in d1:\n",
    "            d1[char] =1\n",
    "        elif char in d1:\n",
    "            d1[char] +=1\n",
    "\n",
    "    for char in word2:\n",
    "        if char not in d2:\n",
    "            d2[char] =1\n",
    "        elif char in d2:\n",
    "            d2[char] +=1\n",
    "\n",
    "    if d1==d2:\n",
    "        truthiness = True\n",
    "        print('bananagrams')\n",
    "        print(truthiness)\n",
    "    else:\n",
    "        truthiness =False\n",
    "        print('nononograms')\n",
    "        print(truthiness)\n",
    "\n",
    "    return truthiness\n"
   ]
  },
  {
   "cell_type": "code",
   "execution_count": 14,
   "metadata": {},
   "outputs": [
    {
     "name": "stdout",
     "output_type": "stream",
     "text": [
      "bananagrams\n",
      "True\n"
     ]
    }
   ],
   "source": [
    "test=grammer('life','elif')\n"
   ]
  },
  {
   "cell_type": "code",
   "execution_count": 15,
   "metadata": {},
   "outputs": [
    {
     "name": "stdout",
     "output_type": "stream",
     "text": [
      "nononograms\n",
      "False\n"
     ]
    }
   ],
   "source": [
    "test=grammer('lyfe','elif')\n"
   ]
  },
  {
   "cell_type": "markdown",
   "metadata": {},
   "source": [
    "exercise\n",
    "\n",
    "can you rewrite our counter program using dictionaries as a custom function?"
   ]
  },
  {
   "cell_type": "code",
   "execution_count": 22,
   "metadata": {},
   "outputs": [],
   "source": [
    "# a solution\n",
    "\n",
    "def counter (word):\n",
    "    d={}\n",
    "  \n",
    "    for char in word:\n",
    "        if char not in d:\n",
    "            d[char] =1\n",
    "        elif char in d:\n",
    "            d[char] +=1\n",
    "\n",
    "    return d\n"
   ]
  },
  {
   "cell_type": "code",
   "execution_count": 23,
   "metadata": {},
   "outputs": [
    {
     "data": {
      "text/plain": [
       "{'j': 1, 'e': 1, 's': 2, 'i': 1, 'c': 1, 'a': 1}"
      ]
     },
     "execution_count": 23,
     "metadata": {},
     "output_type": "execute_result"
    }
   ],
   "source": [
    "counter('jessica')"
   ]
  },
  {
   "cell_type": "code",
   "execution_count": 30,
   "metadata": {},
   "outputs": [
    {
     "name": "stdout",
     "output_type": "stream",
     "text": [
      "True\n"
     ]
    }
   ],
   "source": [
    "# we can start to combine these functions \n",
    "\n",
    "def anagrams(x,y):\n",
    "    '''give two words, i tell if anagrams'''\n",
    "\n",
    "    if x==y:\n",
    "        truthiness = True\n",
    "        return True \n",
    "        print('bananagrams')\n",
    "    else:\n",
    "        return False\n",
    "        truthiness =False\n",
    "        print('nononograms')\n",
    "\n",
    "    return truthiness\n",
    "\n",
    "\n",
    "word1='dad'\n",
    "word2='add'\n",
    "d1=counter(word2)\n",
    "d2 =counter(word1)\n",
    "\n",
    "test=anagrams(d1,d2)\n",
    "\n",
    "print(test)"
   ]
  },
  {
   "cell_type": "markdown",
   "metadata": {},
   "source": [
    "Can you write an anagram function with the counter function embedded?\n",
    "\n",
    "That's right!\n",
    "\n",
    "\n",
    "you can call functions in other functions!"
   ]
  },
  {
   "cell_type": "code",
   "execution_count": 29,
   "metadata": {},
   "outputs": [
    {
     "name": "stdout",
     "output_type": "stream",
     "text": [
      "True\n"
     ]
    }
   ],
   "source": [
    "#a solution\n",
    "\n",
    "def counter (word):\n",
    "    d={}\n",
    "  \n",
    "    for char in word:\n",
    "        if char not in d:\n",
    "            d[char] =1\n",
    "        elif char in d:\n",
    "            d[char] +=1\n",
    "\n",
    "    return d\n",
    "\n",
    "def anagrams(word1,word2):\n",
    "    '''give two words, i tell if anagrams'''\n",
    "    an1=counter(word2)\n",
    "    an2 =counter(word1)\n",
    "    return an1==an2\n",
    "\n",
    "w1='add'\n",
    "w2='dad'\n",
    "\n",
    "test=anagrams(w1, w2)\n",
    "\n",
    "print(test)"
   ]
  },
  {
   "cell_type": "code",
   "execution_count": 27,
   "metadata": {},
   "outputs": [],
   "source": [
    "#there is a counter in python already btw\n",
    "\n",
    "#you just need to import the library that has that function\n",
    "\n",
    "#there are tons of libraries in python that do all kinds of fun stuff\n",
    "\n",
    "\n",
    "import collections #this is a library that does fun stuff \n"
   ]
  },
  {
   "cell_type": "code",
   "execution_count": 28,
   "metadata": {},
   "outputs": [
    {
     "name": "stdout",
     "output_type": "stream",
     "text": [
      "2\n"
     ]
    }
   ],
   "source": [
    "d1=collections.Counter('apple') #using the counter function from collections\n",
    "\n",
    "print(d1['p'])"
   ]
  },
  {
   "cell_type": "raw",
   "metadata": {},
   "source": [
    "~~Sirens horns fanfare~~~\n",
    "\n",
    "\n",
    "The whole idea behind using python for data analysis is that you \n",
    "want to read and manipulate data \n",
    "\n",
    "Usually you store the data in some kind of file on your computer and read it in to \n",
    "analyze it\n",
    "\n",
    "The file format we are going to use most often is the csv (.csv) file (comma separated value)\n",
    "\n",
    "However, for the following exercise, we will use a text (.txt) file \n",
    "\n",
    "Text files are what they sound like, a file with a lot of text in them.\n",
    "\n",
    "In order to do the exercises below, you'll need to download the text file from github that we will be using. You can open the file in python if it isn't downloaded"
   ]
  },
  {
   "cell_type": "markdown",
   "metadata": {},
   "source": [
    "The file we are using is called youwillnotbeabletostayhome and it is a text file\n",
    "\n",
    "the file name is youwillnotbeabletostayhome.txt\n",
    "\n",
    "The file name is where this document is stored on your computer. I recommend putting it into the same folder\n",
    "that you are running your python scripts from so it is simply in the same path. \n",
    "\n",
    "If it's somewhere else, you need to tell the computer where by articulating the file path\n",
    "\n",
    "a file path looks like this 'Documents/Python/youwillnotbeabletostayhome.txt'"
   ]
  },
  {
   "cell_type": "code",
   "execution_count": 18,
   "metadata": {},
   "outputs": [
    {
     "name": "stdout",
     "output_type": "stream",
     "text": [
      "You will not be able to stay home, brother\n",
      "You will not be able to plug in, turn on and cop out\n",
      "You will not be able to lose yourself on skag\n",
      "And skip out for beer during commercials, because\n",
      "The revolution will not be televised\n",
      "The revolution will not be televised\n",
      "The revolution will not be brought to you\n",
      "By Xerox in four parts without commercial interruptions\n",
      "The revolution will not show you pictures of Nixon blowing a bugle\n",
      "And leading a charge by John Mitchell, General Abrams, and Spiro Agnew\n",
      "To eat hog maws confiscated from a Harlem sanctuary\n",
      "The revolution will not be televised\n",
      "The revolution will not be brought to you by the Schaefer Award Theatre\n",
      "And will not star Natalie Woods and Steve McQueen or Bullwinkle and Julia\n",
      "The revolution will not give your mouth sex appeal\n",
      "The revolution will not get rid of the nubs\n",
      "The revolution will not make you look five pounds thinner, because\n",
      "The revolution will not be televised, brother\n",
      "There will be no pictures of you and Willie Mae\n",
      "Pushing that shopping cart down the block on the dead run\n",
      "Or trying to slide that color TV into a stolen ambulance\n",
      "NBC will not be able predict the winner\n",
      "At 8:32 on report from twenty-nine districts\n",
      "The revolution will not be televised\n",
      "There will be no pictures of pigs shooting down brothers on the instant replay\n",
      "There will be no pictures of pigs shooting down brothers on the instant replay\n",
      "There will be no pictures of Whitney Young\n",
      "Being run out of Harlem on a rail with a brand new process\n",
      "There will be no slow motion or still lifes of Roy Wilkins\n",
      "Strolling through Watts in a red, black, and green liberation jumpsuit\n",
      "That he has been saving for just the proper occasion\n",
      "\"Green Acres\", \"Beverly Hillbillies\", and \"Hooterville Junction\"\n",
      "Will no longer be so damn relevant\n",
      "And women will not care if Dick finally got down with Jane\n",
      "On \"Search for Tomorrow\"\n",
      "Because black people will be in the street looking for a brighter day\n",
      "The revolution will not be televised\n",
      "There will be no highlights on the eleven o'clock news\n",
      "And no pictures of hairy armed women liberationists\n",
      "And Jackie Onassis blowing her nose\n",
      "The theme song will not be written by Jim Webb or Francis Scott Keys\n",
      "Nor sung by Glen Campbell, Tom Jones, Johnny Cash\n",
      "Engelbert Humperdinck, or The Rare Earth\n",
      "The revolution will not be televised\n",
      "The revolution will not be right back\n",
      "After a message about a white tornado\n",
      "White lightning, or white people\n",
      "You will not have to worry about a dove in your bedroom\n",
      "The tiger in your tank, or the giant in your toilet bowl\n",
      "The revolution will not go better with Coke\n",
      "The revolution will not fight germs that may cause bad breath\n",
      "The revolution will put you in the driver's seat\n",
      "The revolution will not be televised\n",
      "Will not be televised\n",
      "Will not be televised\n",
      "Will not be televised\n",
      "The revolution will be no re-run, brothers\n",
      "The revolution will be live\n"
     ]
    }
   ],
   "source": [
    "#to read in a txt file, use the open command\n",
    "#doc=open('Documents/SecretStash/youwillnotbeabletostayhome.txt')\n",
    "\n",
    "doc =open('youwillnotbeabletostayhome.txt') #this is the filepath on my computer. \n",
    "#it will not work on yours\n",
    "\n",
    "poem=doc.read() #read it in\n",
    "\n",
    "print(poem) #let's look at it"
   ]
  },
  {
   "cell_type": "code",
   "execution_count": 22,
   "metadata": {},
   "outputs": [
    {
     "name": "stdout",
     "output_type": "stream",
     "text": [
      "this is a sentence  this is another sentence and stuff \n"
     ]
    }
   ],
   "source": [
    "# remember that we have methods for strings?\n",
    "\n",
    "example='This is a sentence. This is another sentence and stuff.'\n",
    "\n",
    "example=example.replace('.',' ') #this method replaces the period with white space\n",
    "clean_string = example.lower() #this method lowers everything\n",
    "\n",
    "print(clean_string)"
   ]
  },
  {
   "cell_type": "code",
   "execution_count": 24,
   "metadata": {},
   "outputs": [
    {
     "name": "stdout",
     "output_type": "stream",
     "text": [
      "['this', 'is', 'a', 'sentence', 'this', 'is', 'another', 'sentence', 'and', 'stuff']\n"
     ]
    }
   ],
   "source": [
    "wordlist= clean_string.split() #returns a list split up by whitespace, each word is individual string\n",
    "print(wordlist)\n"
   ]
  },
  {
   "cell_type": "code",
   "execution_count": null,
   "metadata": {},
   "outputs": [],
   "source": [
    "#example.split('|') #can specify something to split by other than whitespace\n"
   ]
  },
  {
   "cell_type": "markdown",
   "metadata": {},
   "source": [
    "Can you write a function that removes all of the \n",
    "punctuation from the poem?"
   ]
  },
  {
   "cell_type": "markdown",
   "metadata": {},
   "source": [
    "You'll need to use some of our string methods\n",
    "\n",
    "Then open the file and apply the function to it! \n",
    "\n"
   ]
  },
  {
   "cell_type": "markdown",
   "metadata": {},
   "source": [
    "If you get stuck, try to solve the problem\n",
    "as a script first, then convert it into a function"
   ]
  },
  {
   "cell_type": "markdown",
   "metadata": {},
   "source": [
    "Spoilers below"
   ]
  },
  {
   "cell_type": "code",
   "execution_count": 26,
   "metadata": {},
   "outputs": [],
   "source": [
    "\n",
    "file=open('youwillnotbeabletostayhome.txt',mode='r', encoding='UTF-8')\n",
    "poem=file.read()\n",
    "file.close()"
   ]
  },
  {
   "cell_type": "code",
   "execution_count": 29,
   "metadata": {},
   "outputs": [
    {
     "name": "stdout",
     "output_type": "stream",
     "text": [
      "you will not be able to stay home brother\n",
      "you will not be able to plug in turn on and cop out\n",
      "you will not be able to lose yourself on skag\n",
      "and skip out for beer during commercials because\n",
      "the revolution will not be televised\n",
      "the revolution will not be televised\n",
      "the revolution will not be brought to you\n",
      "by xerox in four parts without commercial interruptions\n",
      "the revolution will not show you pictures of nixon blowing a bugle\n",
      "and leading a charge by john mitchell general abrams and spiro agnew\n",
      "to eat hog maws confiscated from a harlem sanctuary\n",
      "the revolution will not be televised\n",
      "the revolution will not be brought to you by the schaefer award theatre\n",
      "and will not star natalie woods and steve mcqueen or bullwinkle and julia\n",
      "the revolution will not give your mouth sex appeal\n",
      "the revolution will not get rid of the nubs\n",
      "the revolution will not make you look five pounds thinner because\n",
      "the revolution will not be televised brother\n",
      "there will be no pictures of you and willie mae\n",
      "pushing that shopping cart down the block on the dead run\n",
      "or trying to slide that color tv into a stolen ambulance\n",
      "nbc will not be able predict the winner\n",
      "at 832 on report from twentynine districts\n",
      "the revolution will not be televised\n",
      "there will be no pictures of pigs shooting down brothers on the instant replay\n",
      "there will be no pictures of pigs shooting down brothers on the instant replay\n",
      "there will be no pictures of whitney young\n",
      "being run out of harlem on a rail with a brand new process\n",
      "there will be no slow motion or still lifes of roy wilkins\n",
      "strolling through watts in a red black and green liberation jumpsuit\n",
      "that he has been saving for just the proper occasion\n",
      "green acres beverly hillbillies and hooterville junction\n",
      "will no longer be so damn relevant\n",
      "and women will not care if dick finally got down with jane\n",
      "on search for tomorrow\n",
      "because black people will be in the street looking for a brighter day\n",
      "the revolution will not be televised\n",
      "there will be no highlights on the eleven oclock news\n",
      "and no pictures of hairy armed women liberationists\n",
      "and jackie onassis blowing her nose\n",
      "the theme song will not be written by jim webb or francis scott keys\n",
      "nor sung by glen campbell tom jones johnny cash\n",
      "engelbert humperdinck or the rare earth\n",
      "the revolution will not be televised\n",
      "the revolution will not be right back\n",
      "after a message about a white tornado\n",
      "white lightning or white people\n",
      "you will not have to worry about a dove in your bedroom\n",
      "the tiger in your tank or the giant in your toilet bowl\n",
      "the revolution will not go better with coke\n",
      "the revolution will not fight germs that may cause bad breath\n",
      "the revolution will put you in the drivers seat\n",
      "the revolution will not be televised\n",
      "will not be televised\n",
      "will not be televised\n",
      "will not be televised\n",
      "the revolution will be no rerun brothers\n",
      "the revolution will be live\n"
     ]
    }
   ],
   "source": [
    "def cleanstring(text):\n",
    "    text=text.lower()\n",
    "    exceptions = ['\\n', ' '] #\\n is a line break\n",
    "    for char in text:\n",
    "        if char.isdigit() or char.isalpha() or char in exceptions:\n",
    "            pass\n",
    "        else:\n",
    "            text=text.replace(char,'')\n",
    "    return  text\n",
    "            \n",
    "clean_poem=cleanstring(poem)\n",
    "print(clean_poem)\n"
   ]
  },
  {
   "cell_type": "markdown",
   "metadata": {},
   "source": [
    "Can you use the collections library to count up the words?\n"
   ]
  },
  {
   "cell_type": "markdown",
   "metadata": {},
   "source": [
    "Remember, there is a counter in collections\n",
    "\n",
    "collections.Counter()"
   ]
  },
  {
   "cell_type": "code",
   "execution_count": null,
   "metadata": {},
   "outputs": [],
   "source": [
    "Hints:\n",
    "    \n",
    "Go through the process again of opening the file\n",
    "\n",
    "Clean it up\n",
    "\n",
    "Split it up into a list of words\n",
    "\n",
    "Then store those in a dictionary\n",
    "\n",
    "Then count it up!"
   ]
  },
  {
   "cell_type": "markdown",
   "metadata": {},
   "source": [
    "Solution below"
   ]
  },
  {
   "cell_type": "code",
   "execution_count": 4,
   "metadata": {},
   "outputs": [
    {
     "name": "stdout",
     "output_type": "stream",
     "text": [
      "Counter({'will': 39, 'the': 35, 'be': 29, 'not': 28, 'revolution': 20, 'and': 13, 'televised': 11, 'a': 11, 'you': 10, 'on': 9, 'of': 9, 'no': 9, 'to': 8, 'in': 8, 'or': 7, 'pictures': 6, 'there': 6, 'by': 5, 'able': 4, 'for': 4, 'your': 4, 'that': 4, 'down': 4, 'out': 3, 'because': 3, 'brothers': 3, 'with': 3, 'white': 3, 'brother': 2, 'brought': 2, 'blowing': 2, 'from': 2, 'harlem': 2, 'run': 2, 'pigs': 2, 'shooting': 2, 'instant': 2, 'replay': 2, 'black': 2, 'green': 2, 'women': 2, 'people': 2, 'about': 2, 'stay': 1, 'home': 1, 'plug': 1, 'turn': 1, 'cop': 1, 'lose': 1, 'yourself': 1, 'skag': 1, 'skip': 1, 'beer': 1, 'during': 1, 'commercials': 1, 'xerox': 1, 'four': 1, 'parts': 1, 'without': 1, 'commercial': 1, 'interruptions': 1, 'show': 1, 'nixon': 1, 'bugle': 1, 'leading': 1, 'charge': 1, 'john': 1, 'mitchell': 1, 'general': 1, 'abrams': 1, 'spiro': 1, 'agnew': 1, 'eat': 1, 'hog': 1, 'maws': 1, 'confiscated': 1, 'sanctuary': 1, 'schaefer': 1, 'award': 1, 'theatre': 1, 'star': 1, 'natalie': 1, 'woods': 1, 'steve': 1, 'mcqueen': 1, 'bullwinkle': 1, 'julia': 1, 'give': 1, 'mouth': 1, 'sex': 1, 'appeal': 1, 'get': 1, 'rid': 1, 'nubs': 1, 'make': 1, 'look': 1, 'five': 1, 'pounds': 1, 'thinner': 1, 'willie': 1, 'mae': 1, 'pushing': 1, 'shopping': 1, 'cart': 1, 'block': 1, 'dead': 1, 'trying': 1, 'slide': 1, 'color': 1, 'tv': 1, 'into': 1, 'stolen': 1, 'ambulance': 1, 'nbc': 1, 'predict': 1, 'winner': 1, 'at': 1, '832': 1, 'report': 1, 'twentynine': 1, 'districts': 1, 'whitney': 1, 'young': 1, 'being': 1, 'rail': 1, 'brand': 1, 'new': 1, 'process': 1, 'slow': 1, 'motion': 1, 'still': 1, 'lifes': 1, 'roy': 1, 'wilkins': 1, 'strolling': 1, 'through': 1, 'watts': 1, 'red': 1, 'liberation': 1, 'jumpsuit': 1, 'he': 1, 'has': 1, 'been': 1, 'saving': 1, 'just': 1, 'proper': 1, 'occasion': 1, 'acres': 1, 'beverly': 1, 'hillbillies': 1, 'hooterville': 1, 'junction': 1, 'longer': 1, 'so': 1, 'damn': 1, 'relevant': 1, 'care': 1, 'if': 1, 'dick': 1, 'finally': 1, 'got': 1, 'jane': 1, 'search': 1, 'tomorrow': 1, 'street': 1, 'looking': 1, 'brighter': 1, 'day': 1, 'highlights': 1, 'eleven': 1, 'oclock': 1, 'news': 1, 'hairy': 1, 'armed': 1, 'liberationists': 1, 'jackie': 1, 'onassis': 1, 'her': 1, 'nose': 1, 'theme': 1, 'song': 1, 'written': 1, 'jim': 1, 'webb': 1, 'francis': 1, 'scott': 1, 'keys': 1, 'nor': 1, 'sung': 1, 'glen': 1, 'campbell': 1, 'tom': 1, 'jones': 1, 'johnny': 1, 'cash': 1, 'engelbert': 1, 'humperdinck': 1, 'rare': 1, 'earth': 1, 'right': 1, 'back': 1, 'after': 1, 'message': 1, 'tornado': 1, 'lightning': 1, 'have': 1, 'worry': 1, 'dove': 1, 'bedroom': 1, 'tiger': 1, 'tank': 1, 'giant': 1, 'toilet': 1, 'bowl': 1, 'go': 1, 'better': 1, 'coke': 1, 'fight': 1, 'germs': 1, 'may': 1, 'cause': 1, 'bad': 1, 'breath': 1, 'put': 1, 'drivers': 1, 'seat': 1, 'rerun': 1, 'live': 1})\n",
      "REVOLUTION: 20\n"
     ]
    }
   ],
   "source": [
    "import collections\n",
    "\n",
    "file=open('youwillnotbeabletostayhome.txt',mode='r', encoding='UTF-8')\n",
    "poem=file.read()\n",
    "#print(poem)\n",
    "file.close() #let your computer chill out\n",
    "\n",
    "\n",
    "def cleanstring(text):\n",
    "    text=text.lower()\n",
    "    exceptions = ['\\n', ' ']\n",
    "    for char in text:\n",
    "        if char.isdigit() or char.isalpha() or char in exceptions:\n",
    "            pass\n",
    "        else:\n",
    "            text=text.replace(char,'')\n",
    "    return  text\n",
    "            \n",
    "clean_poem=cleanstring(poem)\n",
    "#print(clean_poem)\n",
    "\n",
    "\n",
    "\n",
    "wordlist= clean_poem.split() #returns a list split up by whitespace, each word is individual string\n",
    "#print(wordlist)\n",
    "\n",
    "\n",
    "d1=collections.Counter(wordlist)\n",
    "\n",
    "print(d1)\n",
    "\n",
    "print('REVOLUTION:',d1['revolution'])\n",
    "\n"
   ]
  },
  {
   "cell_type": "markdown",
   "metadata": {},
   "source": [
    "SIRENS HORNS FANFARE"
   ]
  },
  {
   "cell_type": "markdown",
   "metadata": {},
   "source": [
    "ONE...MORE...DATATYPE"
   ]
  },
  {
   "cell_type": "markdown",
   "metadata": {},
   "source": [
    "Datatype:  Classes"
   ]
  },
  {
   "cell_type": "markdown",
   "metadata": {},
   "source": [
    "Classes are kind of confusing\n",
    "\n",
    "Think of it as a combo of data and function\n",
    "\n",
    "By creating a class, you can create a new type of object"
   ]
  },
  {
   "cell_type": "markdown",
   "metadata": {},
   "source": [
    "Once you make a new class, you can then use that class to create\n",
    "objects"
   ]
  },
  {
   "cell_type": "code",
   "execution_count": 5,
   "metadata": {},
   "outputs": [
    {
     "name": "stdout",
     "output_type": "stream",
     "text": [
      "diamonds\n"
     ]
    }
   ],
   "source": [
    "#to compare with dictionaries\n",
    "#say we wanted to make a deck of cards\n",
    "#with a dictionary you'd work with something like this:\n",
    "\n",
    "card='4d'\n",
    "\n",
    "card={\n",
    "    'suit':'diamonds',\n",
    "    'value':4\n",
    "}\n",
    "\n",
    "print(card['suit'])"
   ]
  },
  {
   "cell_type": "markdown",
   "metadata": {},
   "source": [
    "to define a class, use this formatting\n",
    "\n",
    "Class Nameofclass:\n",
    "\n",
    "    def __init__(input,input2,input3):\n",
    "            what you want it to do\n",
    "            "
   ]
  },
  {
   "cell_type": "code",
   "execution_count": 6,
   "metadata": {},
   "outputs": [
    {
     "name": "stdout",
     "output_type": "stream",
     "text": [
      "<__main__.Card object at 0x117529970>\n",
      "spades\n",
      "10\n"
     ]
    },
    {
     "data": {
      "text/plain": [
       "__main__.Card"
      ]
     },
     "execution_count": 6,
     "metadata": {},
     "output_type": "execute_result"
    }
   ],
   "source": [
    "#here's what this would look like for the cards\n",
    "\n",
    "class Card: \n",
    "\n",
    "    def __init__(self,value,suit):\n",
    "            self.value=value\n",
    "            self.suit=suit\n",
    "            \n",
    "example = Card(10,'spades')\n",
    "print(example)\n",
    "print(example.suit)\n",
    "print(example.value)\n",
    "\n",
    "type(example) #class created a new object card"
   ]
  },
  {
   "cell_type": "code",
   "execution_count": 7,
   "metadata": {},
   "outputs": [
    {
     "name": "stdout",
     "output_type": "stream",
     "text": [
      "10s\n",
      "spades\n",
      "10\n"
     ]
    },
    {
     "data": {
      "text/plain": [
       "__main__.Card"
      ]
     },
     "execution_count": 7,
     "metadata": {},
     "output_type": "execute_result"
    }
   ],
   "source": [
    "class Card: \n",
    "\n",
    "    def __init__(self,value,suit):\n",
    "            self.value=value\n",
    "            self.suit=suit\n",
    "    def __repr__(self): #you can add a bunch of these\n",
    "            \n",
    "            #return str(self.value)+' of ' + self.suit\n",
    "            return str(self.value)+ self.suit[0]\n",
    "\n",
    "example = Card(10,'spades')\n",
    "print(example)\n",
    "print(example.suit)\n",
    "print(example.value)\n",
    "\n",
    "type(example)"
   ]
  },
  {
   "cell_type": "markdown",
   "metadata": {},
   "source": [
    "Can you write a class for a bank account?\n",
    "\n",
    "\n",
    "Take the name and balance\n",
    "\n",
    "include the possibility to make deposits and withdrawals\n",
    "\n"
   ]
  },
  {
   "cell_type": "code",
   "execution_count": 8,
   "metadata": {},
   "outputs": [
    {
     "name": "stdout",
     "output_type": "stream",
     "text": [
      "John\n",
      "1000.23\n",
      "1495.23\n",
      "1514.23\n"
     ]
    }
   ],
   "source": [
    "class Customer:\n",
    "    def __init__(self,name,balance):\n",
    "        self.name=name\n",
    "        self.balance=balance\n",
    "        \n",
    "    def deposit(self, amount): #update attribute\n",
    "        self.balance += amount\n",
    "        \n",
    "    def withdraw(self,amount): #update attribute\n",
    "        if self.balance <0:\n",
    "            print(overdrawn)\n",
    "        else:\n",
    "            self.balance +=amount\n",
    "    \n",
    "    def get_name(self): #method that returns info to outside\n",
    "        return self.name\n",
    "    \n",
    "    \n",
    "    \n",
    "        \n",
    "example=Customer('John',1000.23)\n",
    "\n",
    "print(example.name)\n",
    "print(example.balance)\n",
    "example.deposit(495)\n",
    "print(example.balance)\n",
    "example.withdraw(19)\n",
    "print(example.balance)"
   ]
  },
  {
   "cell_type": "code",
   "execution_count": null,
   "metadata": {},
   "outputs": [],
   "source": []
  }
 ],
 "metadata": {
  "kernelspec": {
   "display_name": "Python 3",
   "language": "python",
   "name": "python3"
  },
  "language_info": {
   "codemirror_mode": {
    "name": "ipython",
    "version": 3
   },
   "file_extension": ".py",
   "mimetype": "text/x-python",
   "name": "python",
   "nbconvert_exporter": "python",
   "pygments_lexer": "ipython3",
   "version": "3.8.2"
  }
 },
 "nbformat": 4,
 "nbformat_minor": 4
}
